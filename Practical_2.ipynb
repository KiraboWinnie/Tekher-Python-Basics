{
 "cells": [
  {
   "cell_type": "markdown",
   "id": "d68c1dee",
   "metadata": {},
   "source": [
    "# Practical_2: String and files"
   ]
  },
  {
   "cell_type": "markdown",
   "id": "bea983a3",
   "metadata": {},
   "source": [
    "---\n",
    "\n",
    "### Exercise 1:\n",
    "Create a string variable `text` and assign it the value `\"Python is amazing!\"`.\n",
    "\n",
    "```python\n",
    "# Exercise 1\n",
    "```\n",
    "\n",
    "---\n",
    "\n",
    "### Exercise 2:\n",
    "Find the length of the string `\"Hello, World!\"` and store it in a variable `length`.\n",
    "\n",
    "```python\n",
    "# Exercise 2\n",
    "```\n",
    "\n",
    "---\n",
    "\n",
    "### Exercise 3:\n",
    "Convert the string `\"python programming\"` to uppercase and store it in a variable `upper_text`.\n",
    "\n",
    "```python\n",
    "# Exercise 3\n",
    "```\n",
    "\n",
    "---\n",
    "\n",
    "### Exercise 4:\n",
    "Extract the first 5 characters from the string `\"Artificial Intelligence\"`.\n",
    "\n",
    "```python\n",
    "# Exercise 4\n",
    "```\n",
    "\n",
    "---\n",
    "\n",
    "### Exercise 5:\n",
    "Concatenate the strings `\"Hello\"` and `\"World\"` with a space in between.\n",
    "\n",
    "```python\n",
    "# Exercise 5\n",
    "```\n",
    "\n",
    "---\n",
    "\n",
    "### Exercise 6:\n",
    "Replace the word `\"dog\"` with `\"cat\"` in the string `\"The quick brown dog jumps over the lazy dog.\"`.\n",
    "\n",
    "```python\n",
    "# Exercise 6\n",
    "```\n",
    "\n",
    "---\n",
    "\n",
    "### Exercise 7:\n",
    "Split the string `\"apple,banana,orange\"` by commas and store the result in a list `fruits_list`.\n",
    "\n",
    "```python\n",
    "# Exercise 7\n",
    "```\n",
    "\n",
    "---\n",
    "\n",
    "### Exercise 8:\n",
    "Use string formatting to create the sentence `\"My name is Alice and I am 25 years old.\"`, where the name and age are variables.\n",
    "\n",
    "```python\n",
    "# Exercise 8\n",
    "```\n",
    "\n",
    "---\n",
    "\n",
    "### Exercise 9:\n",
    "Check if the string `\"python\"` is present in the sentence `\"I love python programming\"`.\n",
    "\n",
    "```python\n",
    "# Exercise 9\n",
    "```\n",
    "\n",
    "---\n",
    "\n",
    "### Exercise 10:\n",
    "Count the number of occurrences of the letter `\"e\"` in the string `\"Elephant is an elegant animal\"`.\n",
    "\n",
    "```python\n",
    "# Exercise 10\n",
    "```\n",
    "\n",
    "---\n",
    "\n",
    "### Exercise 11:\n",
    "Remove any leading and trailing spaces from the string `\"   Data Science   \"`.\n",
    "\n",
    "```python\n",
    "# Exercise 11\n",
    "```\n",
    "\n",
    "---\n",
    "\n",
    "### Exercise 12:\n",
    "Convert the string `\"100\"` into an integer and store it in a variable `int_value`.\n",
    "\n",
    "```python\n",
    "# Exercise 12\n",
    "```\n",
    "\n",
    "---\n",
    "\n",
    "### Exercise 13:\n",
    "Extract the substring `\"pro\"` from the string `\"programming\"`.\n",
    "\n",
    "```python\n",
    "# Exercise 13\n",
    "```\n",
    "\n",
    "---\n",
    "\n",
    "### Exercise 14:\n",
    "Check if the string `\"data\"` starts with `\"da\"` and ends with `\"ta\"`.\n",
    "\n",
    "```python\n",
    "# Exercise 14\n",
    "```\n",
    "\n",
    "---\n",
    "\n",
    "### Exercise 15:\n",
    "Reverse the string `\"machine learning\"` and store the result in `reversed_text`.\n",
    "\n",
    "```python\n",
    "# Exercise 15\n",
    "```\n",
    "\n",
    "---\n",
    "\n",
    "### Exercise 16:\n",
    "Convert the first letter of each word in the string `\"machine learning is fun\"` to uppercase.\n",
    "\n",
    "```python\n",
    "# Exercise 16\n",
    "```\n",
    "\n",
    "---\n",
    "\n",
    "### Exercise 17:\n",
    "Create a multiline string representing a poem and store it in a variable `poem`.\n",
    "\n",
    "```python\n",
    "# Exercise 17\n",
    "```\n",
    "\n",
    "---\n",
    "\n",
    "### Exercise 18:\n",
    "Write a string to a file named `\"output.txt\"`.\n",
    "\n",
    "```python\n",
    "# Exercise 18\n",
    "```\n",
    "\n",
    "---\n",
    "\n",
    "### Exercise 19:\n",
    "Read the contents of a file named `\"data.txt\"` and print it line by line.\n",
    "\n",
    "```python\n",
    "# Exercise 19\n",
    "```\n",
    "\n",
    "---\n",
    "\n",
    "### Exercise 20:\n",
    "Check if a file `\"example.txt\"` exists before opening it.\n",
    "\n",
    "```python\n",
    "# Exercise 20\n",
    "```\n",
    "\n",
    "---\n",
    "\n",
    "### Exercise 21:\n",
    "Append a new line `\"This is a new line\"` to an existing file `\"notes.txt\"`.\n",
    "\n",
    "```python\n",
    "# Exercise 21\n",
    "```\n",
    "\n",
    "---\n",
    "\n",
    "### Exercise 22:\n",
    "Read the contents of a file `\"log.txt\"` and store each line in a list `log_lines`.\n",
    "\n",
    "```python\n",
    "# Exercise 22\n",
    "```\n",
    "\n",
    "---\n",
    "\n",
    "### Exercise 23:\n",
    "Create a new file `\"report.txt\"` and write the string `\"Data analysis report\"` to it.\n",
    "\n",
    "```python\n",
    "# Exercise 23\n",
    "```\n",
    "\n",
    "---\n",
    "\n",
    "### Exercise 24:\n",
    "Replace the word `\"error\"` with `\"issue\"` in a file `\"log.txt\"`.\n",
    "\n",
    "```python\n",
    "# Exercise 24\n",
    "```\n",
    "\n",
    "---\n",
    "\n",
    "### Exercise 25:\n",
    "Count the number of words in a text file `\"document.txt\"`.\n",
    "\n",
    "```python\n",
    "# Exercise 25\n",
    "```\n",
    "\n",
    "---\n",
    "\n",
    "### Exercise 26:\n",
    "Write a Python script that reads a file `\"essay.txt\"` and prints the total number of lines, words, and characters.\n",
    "\n",
    "```python\n",
    "# Exercise 26\n",
    "```\n",
    "\n",
    "---\n",
    "\n",
    "### Exercise 27:\n",
    "Copy the contents of one file `\"source.txt\"` to another file `\"destination.txt\"`.\n",
    "\n",
    "```python\n",
    "# Exercise 27\n",
    "```\n",
    "\n",
    "---\n",
    "\n",
    "### Exercise 28:\n",
    "Write a Python function that takes a filename as input and returns the number of lines in the file.\n",
    "\n",
    "```python\n",
    "# Exercise 28\n",
    "```\n",
    "\n",
    "---\n",
    "\n",
    "### Exercise 29:\n",
    "Extract all the words from a text file `\"article.txt\"` that contain more than 5 characters.\n",
    "\n",
    "```python\n",
    "# Exercise 29\n",
    "```\n",
    "\n",
    "---\n",
    "\n",
    "### Exercise 30:\n",
    "Convert the contents of a file `\"notes.txt\"` to uppercase and save the result in another file `\"uppercase_notes.txt\"`.\n",
    "\n",
    "```python\n",
    "# Exercise 30\n",
    "```\n",
    "\n",
    "---\n",
    "\n",
    "### Exercise 31:\n",
    "Write a Python script that reads a file and removes all empty lines.\n",
    "\n",
    "```python\n",
    "# Exercise 31\n",
    "```\n",
    "\n",
    "---\n",
    "\n",
    "### Exercise 32:\n",
    "Open a file `\"config.txt\"` in both read and write mode.\n",
    "\n",
    "```python\n",
    "# Exercise 32\n",
    "```\n",
    "\n",
    "---\n",
    "\n",
    "### Exercise 33:\n",
    "Write a Python function that reads a file and prints the longest line in the file.\n",
    "\n",
    "```python\n",
    "# Exercise 33\n",
    "```\n",
    "\n",
    "---\n",
    "\n",
    "### Exercise 34:\n",
    "Write a Python script to count the frequency of each letter in a text file `\"message.txt\"`.\n",
    "\n",
    "```python\n",
    "# Exercise 34\n",
    "```\n",
    "\n",
    "---\n",
    "\n",
    "### Exercise 35:\n",
    "Write a Python script that reads a file and prints the total number of characters, excluding spaces.\n",
    "\n",
    "```python\n",
    "# Exercise 35\n",
    "```\n",
    "\n",
    "---\n",
    "\n",
    "### Exercise 36:\n",
    "Create a Python script to check whether a file is empty or not.\n",
    "\n",
    "```python\n",
    "# Exercise 36\n",
    "```\n",
    "\n",
    "---\n",
    "\n",
    "### Exercise 37:\n",
    "Write a Python function that reads a file and removes all punctuation marks from the text.\n",
    "\n",
    "```python\n",
    "# Exercise 37\n",
    "```\n",
    "\n",
    "---\n",
    "\n",
    "### Exercise 38:\n",
    "Create a Python function that writes a list of strings to a file, each string on a new line.\n",
    "\n",
    "```python\n",
    "# Exercise 38\n",
    "```\n",
    "\n",
    "---\n",
    "\n",
    "### Exercise 39:\n",
    "Write a Python script to count the number of lines that start with a specific letter (e.g., \"A\") in a text file.\n",
    "\n",
    "```python\n",
    "# Exercise 39\n",
    "```\n",
    "\n",
    "---\n",
    "\n",
    "### Exercise 40:\n",
    "Write a Python function that takes a string as input and writes it to a file `\"output.txt\"` in reverse order.\n",
    "\n",
    "```python\n",
    "# Exercise 40\n",
    "```\n",
    "\n",
    "---\n",
    "\n",
    "### Exercise 41:\n",
    "Write a Python script that reads a file and prints all the lines that contain the word `\"Python\"`.\n",
    "\n",
    "```python\n",
    "# Exercise 41\n",
    "```\n",
    "\n",
    "---\n",
    "\n",
    "### Exercise 42:\n",
    "Write a Python script that opens a file and removes all numeric digits from the file's content.\n",
    "\n",
    "```python\n",
    "# Exercise 42\n",
    "```\n",
    "\n",
    "---\n",
    "\n",
    "### Exercise 43:\n",
    "Write a Python script to find the most frequent word in a text file `\"book.txt\"`.\n",
    "\n",
    "```python\n",
    "# Exercise 43\n",
    "```\n",
    "\n",
    "---\n",
    "\n",
    "### Exercise 44:\n",
    "Write a Python script that reads a file and prints all the lines that contain exactly 5 words.\n",
    "\n",
    "```python\n",
    "# Exercise 44\n",
    "```\n",
    "\n",
    "---\n",
    "\n",
    "### Exercise 45:\n",
    "Write a Python script to read a file and print the first and last line of the file.\n",
    "\n",
    "```python\n",
    "# Exercise 45\n",
    "```\n",
    "\n",
    "---\n",
    "\n",
    "### Exercise 46:\n",
    "Write a Python script that checks if a file `\"students.txt\"` is writable.\n",
    "\n",
    "```python\n",
    "# Exercise 46\n",
    "```\n",
    "\n",
    "---\n",
    "\n",
    "### Exercise 47:\n",
    "Create a Python function that opens a file and returns the number of unique words in the file.\n",
    "\n",
    "```python\n",
    "# Exercise 47\n",
    "```\n",
    "\n",
    "---\n",
    "\n",
    "### Exercise 48:\n",
    "Write a Python script that reads a file and prints all lines in reverse order.\n",
    "\n",
    "```python\n",
    "# Exercise 48\n",
    "```\n",
    "\n",
    "---\n",
    "\n",
    "### Exercise 49:\n",
    "Write a Python function that reads a file and returns the most common letter in the text.\n",
    "\n",
    "```python\n",
    "# Exercise 49\n",
    "```\n",
    "\n",
    "---\n",
    "\n",
    "### Exercise 50:\n",
    "Write a Python script that reads a file and replaces every occurrence of `\"Python\"` with `\"Java\"`.\n",
    "\n",
    "```python\n",
    "# Exercise 50\n",
    "```\n",
    "\n",
    "---\n",
    "\n"
   ]
  },
  {
   "cell_type": "markdown",
   "id": "a7918bc9-6534-49b1-9d9c-801c5a876f9c",
   "metadata": {},
   "source": [
    "### EXERCISE 01"
   ]
  },
  {
   "cell_type": "code",
   "execution_count": 128,
   "id": "67895e6f-d5a2-433e-8a7e-05275fcbd0b5",
   "metadata": {},
   "outputs": [
    {
     "name": "stdout",
     "output_type": "stream",
     "text": [
      "Python is amazing\n"
     ]
    }
   ],
   "source": [
    "text = 'Python is amazing'\n",
    "print(text)"
   ]
  },
  {
   "cell_type": "markdown",
   "id": "d85ec3b3-0ab8-482b-8e3b-455ae5209d2e",
   "metadata": {},
   "source": [
    "### EXERCISE 02"
   ]
  },
  {
   "cell_type": "code",
   "execution_count": 131,
   "id": "020eeffc-aa5c-4746-85f7-70561a2bdb32",
   "metadata": {},
   "outputs": [
    {
     "name": "stdout",
     "output_type": "stream",
     "text": [
      "11\n"
     ]
    }
   ],
   "source": [
    "x =  'Hello world'\n",
    "print(len(x))"
   ]
  },
  {
   "cell_type": "markdown",
   "id": "4c56e087-4738-4239-89f9-4a6f6a04af2d",
   "metadata": {},
   "source": [
    "### EXERCISE 03"
   ]
  },
  {
   "cell_type": "code",
   "execution_count": 134,
   "id": "615b9a38-3c3a-439b-8490-2e50289db4fe",
   "metadata": {},
   "outputs": [
    {
     "name": "stdout",
     "output_type": "stream",
     "text": [
      "upper_text: PYTHON PROGRAMMING\n"
     ]
    }
   ],
   "source": [
    "upper_text = 'python programming'.upper()\n",
    "print(\"upper_text:\" ,upper_text)"
   ]
  },
  {
   "cell_type": "markdown",
   "id": "1a94e444-b7d5-48cb-b740-a09078f61497",
   "metadata": {},
   "source": [
    "### EXERCISE 4"
   ]
  },
  {
   "cell_type": "code",
   "execution_count": 137,
   "id": "5ac11630-85f0-4b31-8738-3ad5ecd3b322",
   "metadata": {},
   "outputs": [
    {
     "name": "stdout",
     "output_type": "stream",
     "text": [
      "tp: Artif\n"
     ]
    }
   ],
   "source": [
    "\n",
    "rtp = \"Artificial Intelligence\"[:5]\n",
    "print(\"tp:\",tp)"
   ]
  },
  {
   "cell_type": "markdown",
   "id": "a92c78f1-e917-47be-9df8-beee7e8ecebb",
   "metadata": {},
   "source": [
    "### EXERCISE 5"
   ]
  },
  {
   "cell_type": "code",
   "execution_count": 140,
   "id": "e8a2e28d-aa27-4724-87aa-b105d1bb21b0",
   "metadata": {},
   "outputs": [
    {
     "name": "stdout",
     "output_type": "stream",
     "text": [
      "Hello World\n"
     ]
    }
   ],
   "source": [
    "x = 'Hello'\n",
    "y = 'World'\n",
    "print(x + \" \" + y)"
   ]
  },
  {
   "cell_type": "markdown",
   "id": "8bb47cb1-eb6c-4333-a5fd-076c997788ec",
   "metadata": {},
   "source": [
    "### EXERCISE 06"
   ]
  },
  {
   "cell_type": "code",
   "execution_count": 143,
   "id": "41352643-cabf-4acf-b7c6-25e426fa5ae8",
   "metadata": {},
   "outputs": [
    {
     "name": "stdout",
     "output_type": "stream",
     "text": [
      "sentence: The quick brown cat jumps over the lazy cat\n"
     ]
    }
   ],
   "source": [
    "sentence = \"The quick brown dog jumps over the lazy dog\".replace(\"dog\",\"cat\")\n",
    "print(\"sentence:\",sentence)"
   ]
  },
  {
   "cell_type": "markdown",
   "id": "ab0bbf5b-5263-40fb-ba91-81037225212e",
   "metadata": {},
   "source": [
    "### EXERCISE 07"
   ]
  },
  {
   "cell_type": "code",
   "execution_count": 146,
   "id": "52cd6608-3e4f-4e8d-b2fc-2b8b113d014b",
   "metadata": {},
   "outputs": [
    {
     "name": "stdout",
     "output_type": "stream",
     "text": [
      "['apple,banana,orange']\n"
     ]
    }
   ],
   "source": [
    "fruits_list = \"apple,banana,orange\".split(\" , \")\n",
    "print(fruits_list)\n"
   ]
  },
  {
   "cell_type": "markdown",
   "id": "1a3f5a3c-ac1e-49a3-9ef2-fef1a58b0b16",
   "metadata": {},
   "source": [
    "### EXERCISE 08"
   ]
  },
  {
   "cell_type": "code",
   "execution_count": 149,
   "id": "a583ded5-e050-4856-b4cf-5e20b42ea98c",
   "metadata": {},
   "outputs": [
    {
     "name": "stdout",
     "output_type": "stream",
     "text": [
      "My name is Alice and I am 25 years old.\n"
     ]
    }
   ],
   "source": [
    "age = 25\n",
    "name = \"Alice\"\n",
    "formated_sentence = f\"My name is {name} and I am {age} years old.\"\n",
    "print(formated_sentence)"
   ]
  },
  {
   "cell_type": "markdown",
   "id": "180c9ea4-9fb7-4d58-a1c7-2f5d706407be",
   "metadata": {},
   "source": [
    "### EXERCISE 09"
   ]
  },
  {
   "cell_type": "code",
   "execution_count": 152,
   "id": "671d84e7-e61e-41a7-b667-3be6904799d9",
   "metadata": {},
   "outputs": [
    {
     "name": "stdout",
     "output_type": "stream",
     "text": [
      "True\n"
     ]
    }
   ],
   "source": [
    "sentence_check = \"I Love python programming\"\n",
    "is_present = \"python\" in sentence_check\n",
    "print(is_present)"
   ]
  },
  {
   "cell_type": "markdown",
   "id": "1a1ec37b-9901-476c-bdf9-e969a34246ad",
   "metadata": {},
   "source": [
    "### EXERCISE 10"
   ]
  },
  {
   "cell_type": "code",
   "execution_count": 155,
   "id": "ef430a61-e566-49bc-bffb-d43170f05d84",
   "metadata": {},
   "outputs": [
    {
     "name": "stdout",
     "output_type": "stream",
     "text": [
      "3\n"
     ]
    }
   ],
   "source": [
    "E_count = \"Elephant is an elegant animal\".count(\"e\")\n",
    "print(E_count)"
   ]
  },
  {
   "cell_type": "markdown",
   "id": "c1785103-ec86-4b0c-bab2-b83bc6cbe151",
   "metadata": {},
   "source": [
    "### EXERCISE 11"
   ]
  },
  {
   "cell_type": "code",
   "execution_count": 158,
   "id": "681a8746-8f90-4325-9e1b-5e16997fb73b",
   "metadata": {},
   "outputs": [
    {
     "name": "stdout",
     "output_type": "stream",
     "text": [
      "Cleaned text: 'Data Science'\n"
     ]
    }
   ],
   "source": [
    "text = \"   Data Science   \"\n",
    "cleaned_text = text.strip()\n",
    "print(f\"Cleaned text: '{cleaned_text}'\")"
   ]
  },
  {
   "cell_type": "markdown",
   "id": "bc220651-af04-4316-9734-9bc8fbf52ac1",
   "metadata": {},
   "source": [
    "### EXERCISE 12"
   ]
  },
  {
   "cell_type": "code",
   "execution_count": 161,
   "id": "2a66cd19-d65e-49f5-8540-3e4bf4634c42",
   "metadata": {},
   "outputs": [
    {
     "name": "stdout",
     "output_type": "stream",
     "text": [
      "Integer value: 100\n"
     ]
    }
   ],
   "source": [
    "string_number = \"100\"\n",
    "int_value = int(string_number)\n",
    "print(f\"Integer value: {int_value}\")"
   ]
  },
  {
   "cell_type": "markdown",
   "id": "7ec1c9d4-e136-49a5-8d33-3590bb8c8fd1",
   "metadata": {},
   "source": [
    "### EXERCISE 13"
   ]
  },
  {
   "cell_type": "code",
   "execution_count": 164,
   "id": "71191ae4-9919-4538-9ca0-d7cecc21b9c0",
   "metadata": {},
   "outputs": [
    {
     "name": "stdout",
     "output_type": "stream",
     "text": [
      "Extracted substring: pro\n"
     ]
    }
   ],
   "source": [
    "text = \"programming\"\n",
    "substring = text[0:3]\n",
    "print(f\"Extracted substring: {substring}\")"
   ]
  },
  {
   "cell_type": "markdown",
   "id": "8ec12b31-b57a-4d90-aea4-1ef8ddef7f9c",
   "metadata": {},
   "source": [
    "### EXERCISE 14"
   ]
  },
  {
   "cell_type": "code",
   "execution_count": 167,
   "id": "aa713c6d-c6f8-41e2-af7d-a65d47cdc603",
   "metadata": {},
   "outputs": [
    {
     "name": "stdout",
     "output_type": "stream",
     "text": [
      "Starts with 'da': True, Ends with 'ta': True\n"
     ]
    }
   ],
   "source": [
    "text = \"data\"\n",
    "starts_correctly = text.startswith(\"da\")\n",
    "ends_correctly = text.endswith(\"ta\")\n",
    "print(f\"Starts with 'da': {starts_correctly}, Ends with 'ta': {ends_correctly}\")"
   ]
  },
  {
   "cell_type": "markdown",
   "id": "9e8a6497-5235-4258-8615-9a5ffd9e34f3",
   "metadata": {},
   "source": [
    "### EXERCISE 15"
   ]
  },
  {
   "cell_type": "raw",
   "id": "34bc3b10-9d45-418c-be34-cde3245c77f6",
   "metadata": {},
   "source": [
    "text = \"machine learning\"\n",
    "reversed_text = text[::-1]\n",
    "print(f\"Reversed text: {reversed_text}\")"
   ]
  },
  {
   "cell_type": "markdown",
   "id": "0350e747-3e8f-4a10-b505-3d7aa8e5eeaa",
   "metadata": {},
   "source": [
    "### EXERCISE 16"
   ]
  },
  {
   "cell_type": "code",
   "execution_count": 171,
   "id": "358c6a73-4920-444e-b8a9-1cca003e265d",
   "metadata": {},
   "outputs": [
    {
     "name": "stdout",
     "output_type": "stream",
     "text": [
      "Capitalized text: MACHINE LEARNING IS FUN\n"
     ]
    }
   ],
   "source": [
    "text = \"machine learning is fun\"\n",
    "capitalized_text = text.upper()\n",
    "print(f\"Capitalized text: {capitalized_text}\")"
   ]
  },
  {
   "cell_type": "markdown",
   "id": "85a1ff00-64fd-458c-8ca1-184dd49c6ac2",
   "metadata": {},
   "source": [
    "### EXERCISE 17"
   ]
  },
  {
   "cell_type": "code",
   "execution_count": 174,
   "id": "629adc85-3a5b-4e58-b598-196f002e1023",
   "metadata": {},
   "outputs": [
    {
     "name": "stdout",
     "output_type": "stream",
     "text": [
      "Roses are red,\n",
      "Violets are blue,\n",
      "Python is great,\n",
      "And so are you.\n"
     ]
    }
   ],
   "source": [
    "poem = \"\"\"Roses are red,\n",
    "Violets are blue,\n",
    "Python is great,\n",
    "And so are you.\"\"\"\n",
    "print(poem)"
   ]
  },
  {
   "cell_type": "markdown",
   "id": "06ee9369-cfe3-433e-bb6c-7817cf7bcd11",
   "metadata": {},
   "source": [
    "### EXERCISE 18"
   ]
  },
  {
   "cell_type": "code",
   "execution_count": 247,
   "id": "fe397d2a-cde6-42aa-8fb1-45978081ac38",
   "metadata": {},
   "outputs": [
    {
     "name": "stdout",
     "output_type": "stream",
     "text": [
      "String has been written to 'output.txt'.\n"
     ]
    }
   ],
   "source": [
    "with open(\"output.txt\", \"w\") as file:\n",
    "    file.write(\"This is the output of Exercise 18.\")\n",
    "print(\"String has been written to 'output.txt'.\")"
   ]
  },
  {
   "cell_type": "markdown",
   "id": "59527d02-cf95-49bf-ac65-c7da23558313",
   "metadata": {},
   "source": [
    "### Exercise 19"
   ]
  },
  {
   "cell_type": "code",
   "execution_count": 249,
   "id": "4996df9d-31b2-462f-b062-eb4a64e02a07",
   "metadata": {},
   "outputs": [
    {
     "name": "stdout",
     "output_type": "stream",
     "text": [
      "contents of 'data.txt':\n",
      "Name,Age,Score\n",
      "Alice,23,85\n",
      "Bob,30,90\n",
      "Charlie,25,88\n"
     ]
    }
   ],
   "source": [
    "# Exercise 19\n",
    "file_path_19 = r\"C:\\Users\\user\\Documents\\Tekher_Program\\TekHer-Python-Basics\\data\\data.txt\"\n",
    "try:\n",
    "    with open(file_path_19, \"r\") as file:\n",
    "        print(\"contents of 'data.txt':\")\n",
    "        for line in file:\n",
    "            print(line.strip())\n",
    "except FileNotFoundError:\n",
    "    print(\"'data.txt' not found at the specified location.\")"
   ]
  },
  {
   "cell_type": "markdown",
   "id": "e2f0cd60-5edc-4a26-93c9-80f9db6f5f8b",
   "metadata": {},
   "source": [
    "### Exercise 20"
   ]
  },
  {
   "cell_type": "code",
   "execution_count": 251,
   "id": "bf12e6a4-441c-4b93-870f-b71a39d03ed2",
   "metadata": {},
   "outputs": [
    {
     "name": "stdout",
     "output_type": "stream",
     "text": [
      "'example.txt' opened successfully.\n"
     ]
    }
   ],
   "source": [
    "# Exercise 20\n",
    "file_path_20 = r\"C:\\Users\\user\\Documents\\Tekher_Program\\TekHer-Python-Basics\\data\\example.txt\"\n",
    "import os\n",
    "if os.path.exists(file_path_20):\n",
    "    with open(file_path_20, \"r\") as file:\n",
    "        print(\"'example.txt' opened successfully.\")\n",
    "else:\n",
    "    print(\"'example.txt' does not exist at the specified location.\")"
   ]
  },
  {
   "cell_type": "markdown",
   "id": "e0ef1597-7c8e-4b67-a01f-771d64b1fce2",
   "metadata": {},
   "source": [
    "### Exercise 21"
   ]
  },
  {
   "cell_type": "code",
   "execution_count": 253,
   "id": "a587e8fe-7ce8-43b2-b74d-38ac349f8c2c",
   "metadata": {},
   "outputs": [
    {
     "name": "stdout",
     "output_type": "stream",
     "text": [
      "New line appended to 'notes.txt'.\n"
     ]
    }
   ],
   "source": [
    "# Exercise 21\n",
    "file_path_21 = r\"C:\\Users\\user\\Documents\\Tekher_Program\\TekHer-Python-Basics\\data\\notes.txt\"\n",
    "with open(file_path_21, \"a\") as file:\n",
    "    file.write(\"\\nThis is a new line\")\n",
    "print(\"New line appended to 'notes.txt'.\")"
   ]
  },
  {
   "cell_type": "markdown",
   "id": "ddd067aa-497c-4f66-95a6-5df4937ecbe0",
   "metadata": {},
   "source": [
    "### Exercise 22"
   ]
  },
  {
   "cell_type": "code",
   "execution_count": 255,
   "id": "bc0f378e-586a-4b2e-ade3-2ef03d0dacc7",
   "metadata": {},
   "outputs": [
    {
     "name": "stdout",
     "output_type": "stream",
     "text": [
      "Lines from 'log.txt' stored in a list: ['2024-05-20 10:00:00 INFO Program started\\n', '2024-05-20 10:05:00 ERROR Invalid input\\n']\n"
     ]
    }
   ],
   "source": [
    "# Exercise 22\n",
    "file_path_22 = r\"C:\\Users\\user\\Documents\\Tekher_Program\\TekHer-Python-Basics\\data\\log.txt\"\n",
    "with open(file_path_22, \"r\") as file:\n",
    "    log_lines = file.readlines()\n",
    "print(\"Lines from 'log.txt' stored in a list:\", log_lines)"
   ]
  },
  {
   "cell_type": "markdown",
   "id": "e363120e-b237-4303-9ab0-32108cae39b1",
   "metadata": {},
   "source": [
    "### Exercise 23"
   ]
  },
  {
   "cell_type": "code",
   "execution_count": 257,
   "id": "ebf2c0e0-c61e-4f6d-86ec-385c6a06df44",
   "metadata": {},
   "outputs": [
    {
     "name": "stdout",
     "output_type": "stream",
     "text": [
      "Report written to 'report.txt'.\n"
     ]
    }
   ],
   "source": [
    "# Exercise 23\n",
    "file_path_23 = r\"C:\\Users\\user\\Documents\\Tekher_Program\\TekHer-Python-Basics\\data\\report.txt\"\n",
    "with open(file_path_23, \"w\") as file:\n",
    "    file.write(\"Data analysis report\")\n",
    "print(\"Report written to 'report.txt'.\")"
   ]
  },
  {
   "cell_type": "markdown",
   "id": "9e982920-feb8-45e1-a9a3-162f5beb9518",
   "metadata": {},
   "source": [
    "### Exercise 24"
   ]
  },
  {
   "cell_type": "code",
   "execution_count": 259,
   "id": "cdb415e5-693b-4ab3-a4a4-40e16eab475c",
   "metadata": {},
   "outputs": [
    {
     "name": "stdout",
     "output_type": "stream",
     "text": [
      "Replaced 'ERROR' with 'ISSUE' in 'log.txt'.\n"
     ]
    }
   ],
   "source": [
    "# Exercise 24\n",
    "file_path_24 = r\"C:\\Users\\user\\Documents\\Tekher_Program\\TekHer-Python-Basics\\data\\log.txt\"\n",
    "with open(file_path_24, \"r\") as file:\n",
    "    content = file.read()\n",
    "updated_content = content.replace(\"ERROR\", \"ISSUE\")\n",
    "with open(file_path_24, \"w\") as file:\n",
    "    file.write(updated_content)\n",
    "print(\"Replaced 'ERROR' with 'ISSUE' in 'log.txt'.\")"
   ]
  },
  {
   "cell_type": "markdown",
   "id": "5e40c81d-de72-42f3-8c63-9fc60189410e",
   "metadata": {},
   "source": [
    "### Exercise 25"
   ]
  },
  {
   "cell_type": "code",
   "execution_count": 261,
   "id": "a833bb7a-a744-44f2-99dc-b8c2ba6d5fd5",
   "metadata": {},
   "outputs": [
    {
     "name": "stdout",
     "output_type": "stream",
     "text": [
      "Total number of words in 'document.txt': 12\n"
     ]
    }
   ],
   "source": [
    "# Exercise 25\n",
    "file_path_25 = r\"C:\\Users\\user\\Documents\\Tekher_Program\\TekHer-Python-Basics\\data\\document.txt\"\n",
    "with open(file_path_25, \"r\") as file:\n",
    "    text = file.read()\n",
    "word_count = len(text.split())\n",
    "print(\"Total number of words in 'document.txt':\", word_count)"
   ]
  },
  {
   "cell_type": "markdown",
   "id": "3e52344b-6890-4682-ba9c-7055f09d0504",
   "metadata": {},
   "source": [
    "### Exercise 26 "
   ]
  },
  {
   "cell_type": "code",
   "execution_count": 263,
   "id": "cd736024-849d-450a-a153-697d31a1eae8",
   "metadata": {},
   "outputs": [
    {
     "name": "stdout",
     "output_type": "stream",
     "text": [
      "Lines: 3\n",
      "Words: 8\n",
      "Characters: 39\n"
     ]
    }
   ],
   "source": [
    "# Exercise 26\n",
    "file_path_26 = r\"C:\\Users\\user\\Documents\\Tekher_Program\\TekHer-Python-Basics\\data\\essay.txt\"\n",
    "with open(file_path_26, \"r\") as file:\n",
    "    lines = file.readlines()\n",
    "    total_lines = len(lines)\n",
    "    total_words = sum(len(line.split()) for line in lines)\n",
    "    total_chars = sum(len(line) for line in lines)\n",
    "print(\"Lines:\", total_lines)\n",
    "print(\"Words:\", total_words)\n",
    "print(\"Characters:\", total_chars)\n"
   ]
  },
  {
   "cell_type": "markdown",
   "id": "7d2c70f2-6175-4f70-aeab-81532f2a9955",
   "metadata": {},
   "source": [
    "### Exercise 27"
   ]
  },
  {
   "cell_type": "code",
   "execution_count": 190,
   "id": "ed12233e-dfef-47e8-8d4e-618a1eb9f116",
   "metadata": {},
   "outputs": [
    {
     "name": "stdout",
     "output_type": "stream",
     "text": [
      "Contents copied from 'source.txt' to 'destination.txt'.\n"
     ]
    }
   ],
   "source": [
    "src_path = r\"C:\\Users\\user\\Documents\\Tekher_Program\\TekHer-Python-Basics\\data\\source.txt\"\n",
    "dst_path = r\"C:\\Users\\user\\Documents\\Tekher_Program\\TekHer-Python-Basics\\data\\destination.txt\"\n",
    "with open(src_path, \"r\") as src_file:\n",
    "    content = src_file.read()\n",
    "with open(dst_path, \"w\") as dst_file:\n",
    "    dst_file.write(content)\n",
    "print(\"Contents copied from 'source.txt' to 'destination.txt'.\")\n",
    "\n",
    "\n"
   ]
  },
  {
   "cell_type": "markdown",
   "id": "54cc3256-038c-4d1e-8fa7-e2fb4ffee9a5",
   "metadata": {},
   "source": [
    "### Exercise 28"
   ]
  },
  {
   "cell_type": "code",
   "execution_count": 67,
   "id": "c69dc314-f1df-4369-b163-1f7a9918605b",
   "metadata": {},
   "outputs": [],
   "source": [
    "def count_lines(filename):\n",
    "    with open(filename, \"r\") as file:\n",
    "        return len(file.readlines())\n"
   ]
  },
  {
   "cell_type": "markdown",
   "id": "1b29b3a3-fa4b-48ad-8fca-52d0d6802631",
   "metadata": {},
   "source": [
    "### Exercise 29"
   ]
  },
  {
   "cell_type": "code",
   "execution_count": 194,
   "id": "3c6018d6-288a-4d55-960e-22679ab02f78",
   "metadata": {},
   "outputs": [
    {
     "name": "stdout",
     "output_type": "stream",
     "text": [
      "Words with more than 5 characters: ['sample', 'article', 'applications.', 'multiple', 'lines.']\n"
     ]
    }
   ],
   "source": [
    "# Exercise 29\n",
    "file_path_29 = r\"C:\\Users\\user\\Documents\\Tekher_Program\\TekHer-Python-Basics\\data\\article.txt\"\n",
    "with open(file_path_29, \"r\") as file:\n",
    "    words = file.read().split()\n",
    "long_words = [word for word in words if len(word) > 5]\n",
    "print(\"Words with more than 5 characters:\", long_words)\n"
   ]
  },
  {
   "cell_type": "markdown",
   "id": "374587bb-7ce8-49d1-a36c-516736f2b3e3",
   "metadata": {},
   "source": [
    "### Exercise 30"
   ]
  },
  {
   "cell_type": "code",
   "execution_count": 232,
   "id": "1d1f4f24-4ef2-4d20-878b-e709066de2de",
   "metadata": {},
   "outputs": [
    {
     "name": "stdout",
     "output_type": "stream",
     "text": [
      "Contents of 'notes.txt' converted to uppercase and saved to 'uppercase_notes.txt'.\n"
     ]
    }
   ],
   "source": [
    "# Exercise 30\n",
    "input_path = r\"C:\\Users\\user\\Documents\\Tekher_Program\\TekHer-Python-Basics\\data\\notes.txt\"\n",
    "output_path = r\"C:\\Users\\user\\Documents\\Tekher_Program\\TekHer-Python-Basics\\data\\uppercase_notes.txt\"\n",
    "with open(input_path, \"r\") as file:\n",
    "    content = file.read().upper()\n",
    "with open(output_path, \"w\") as file:\n",
    "    file.write(content)\n",
    "print(\"Contents of 'notes.txt' converted to uppercase and saved to 'uppercase_notes.txt'.\")"
   ]
  },
  {
   "cell_type": "markdown",
   "id": "8ea114e9-d817-420d-939a-9336207d8a99",
   "metadata": {},
   "source": [
    "### Exercise 31"
   ]
  },
  {
   "cell_type": "code",
   "execution_count": 200,
   "id": "b361ffec-41b1-49dd-87a8-5f5386280a2a",
   "metadata": {},
   "outputs": [
    {
     "name": "stdout",
     "output_type": "stream",
     "text": [
      "Empty lines removed from 'essay.txt'.\n"
     ]
    }
   ],
   "source": [
    "import os\n",
    "import string\n",
    "\n",
    "base_path = r\"C:\\Users\\user\\Documents\\Tekher_Program\\TekHer-Python-Basics\\data\"\n",
    "\n",
    "# Exercise 31\n",
    "file_path_31 = os.path.join(base_path, \"essay.txt\")\n",
    "with open(file_path_31, \"r\") as file:\n",
    "    lines = file.readlines()\n",
    "non_empty_lines = [line for line in lines if line.strip()]\n",
    "with open(file_path_31, \"w\") as file:\n",
    "    file.writelines(non_empty_lines)\n",
    "print(\"Empty lines removed from 'essay.txt'.\")"
   ]
  },
  {
   "cell_type": "markdown",
   "id": "47f635a1-1349-4bad-a6e0-d2dfaad58870",
   "metadata": {},
   "source": [
    "### Exercise 32"
   ]
  },
  {
   "cell_type": "code",
   "execution_count": 202,
   "id": "2db2ea74-a14c-4c53-8e4e-a9669a9c93fe",
   "metadata": {},
   "outputs": [
    {
     "name": "stdout",
     "output_type": "stream",
     "text": [
      "'config.txt' opened in read and write mode.\n"
     ]
    }
   ],
   "source": [
    "# Exercise 32\n",
    "file_path_32 = os.path.join(base_path, \"config.txt\")\n",
    "file = open(file_path_32, \"r+\")\n",
    "print(\"'config.txt' opened in read and write mode.\")\n"
   ]
  },
  {
   "cell_type": "markdown",
   "id": "7965a8bb-9252-4b6d-96d0-8498ea261781",
   "metadata": {},
   "source": [
    "### Exercise 33"
   ]
  },
  {
   "cell_type": "code",
   "execution_count": 230,
   "id": "49427a84-9723-4c8a-ae8c-127e9b55090a",
   "metadata": {},
   "outputs": [],
   "source": [
    "# Exercise 33 \n",
    "file_path_33 = r\"C:\\Users\\user\\Documents\\Tekher_Program\\TekHer-Python-Basics\\data\\uppercase_notes.txt\" # random file path\n",
    "\n",
    "def print_longest_line(file_path):\n",
    "    with open(file_path, \"r\") as file:\n",
    "        lines = file.readlines()\n",
    "    longest = max(lines, key=len)\n",
    "    print(\"Longest line in the file:\", longest.strip())\n"
   ]
  },
  {
   "cell_type": "markdown",
   "id": "8483ec72-a35e-4eb0-a871-5bc5ab2f24a2",
   "metadata": {},
   "source": [
    "### Exercise 34"
   ]
  },
  {
   "cell_type": "code",
   "execution_count": 204,
   "id": "a3135720-c14c-46b5-97a0-acc2f6b3ebb3",
   "metadata": {},
   "outputs": [
    {
     "name": "stdout",
     "output_type": "stream",
     "text": [
      "Letter frequency in 'message.txt': {'h': 3, 'e': 6, 'l': 3, 'o': 1, 't': 2, 'r': 1, 'i': 3, 's': 4, 'a': 2, 'm': 1, 'g': 1, 'f': 1}\n"
     ]
    }
   ],
   "source": [
    "# Exercise 34\n",
    "file_path_34 = os.path.join(base_path, \"message.txt\")\n",
    "with open(file_path_34, \"r\") as file:\n",
    "    text = file.read().lower()\n",
    "frequency = {}\n",
    "for char in text:\n",
    "    if char.isalpha():\n",
    "        frequency[char] = frequency.get(char, 0) + 1\n",
    "print(\"Letter frequency in 'message.txt':\", frequency)"
   ]
  },
  {
   "cell_type": "markdown",
   "id": "d1ef029f-f448-488a-aa38-b0630c439de5",
   "metadata": {},
   "source": [
    "### Exercise 35"
   ]
  },
  {
   "cell_type": "code",
   "execution_count": 184,
   "id": "e6f71764-ba93-4cd2-be6f-f4936bb087fa",
   "metadata": {},
   "outputs": [
    {
     "name": "stdout",
     "output_type": "stream",
     "text": [
      "file.txt has been created.\n",
      "Characters (excluding spaces): 38\n"
     ]
    }
   ],
   "source": [
    "# Create 'file.txt' with some sample content\n",
    "with open(\"file.txt\", \"w\") as file:\n",
    "    file.write(\"Python programming is powerful and popular.\")\n",
    "\n",
    "print(\"file.txt has been created.\")\n",
    "\n",
    "\n",
    "with open(\"file.txt\", \"r\") as file:\n",
    "    content = file.read()\n",
    "char_count = len(content.replace(\" \", \"\"))\n",
    "print(f\"Characters (excluding spaces): {char_count}\")\n"
   ]
  },
  {
   "cell_type": "markdown",
   "id": "e013347a-51c9-46ae-8460-b5c2c588d522",
   "metadata": {},
   "source": [
    "### Exercise 36"
   ]
  },
  {
   "cell_type": "code",
   "execution_count": 101,
   "id": "f3229ebc-e2f8-4117-8a78-f10b6161b0f2",
   "metadata": {},
   "outputs": [],
   "source": [
    "import os\n",
    "\n",
    "def is_file_empty(filename):\n",
    "    return os.path.getsize(filename) == 0\n",
    "\n",
    "# Example usage\n",
    "# print(is_file_empty(\"file.txt\"))\n"
   ]
  },
  {
   "cell_type": "markdown",
   "id": "f0a7663d-0706-4ea9-afa9-48268c7f58fd",
   "metadata": {},
   "source": [
    "### Exercise 37"
   ]
  },
  {
   "cell_type": "code",
   "execution_count": 105,
   "id": "746e5182-c536-4e26-9652-eea38a8f9bf0",
   "metadata": {},
   "outputs": [],
   "source": [
    "import string\n",
    "\n",
    "def remove_punctuation(filename):\n",
    "    with open(filename, \"r\") as file:\n",
    "        text = file.read()\n",
    "    clean_text = text.translate(str.maketrans('', '', string.punctuation))\n",
    "    return clean_text\n",
    "\n",
    "# Example usage\n",
    "# print(remove_punctuation(\"text.txt\"))\n"
   ]
  },
  {
   "cell_type": "markdown",
   "id": "68d5b869-dff6-40cb-8074-ceefd3b3a9a0",
   "metadata": {},
   "source": [
    "### Exercise 38"
   ]
  },
  {
   "cell_type": "code",
   "execution_count": 225,
   "id": "9c0034cf-61e7-4fe1-a300-8bd0cc8fed0c",
   "metadata": {},
   "outputs": [
    {
     "name": "stdout",
     "output_type": "stream",
     "text": [
      "List of strings written to file: C:\\Users\\user\\Documents\\Tekher_Program\\TekHer-Python-Basics\\data\\essay.txt\n"
     ]
    }
   ],
   "source": [
    "# Exercise 38 (write to essay.txt)\n",
    "def write_lines_to_file(lines, filename):\n",
    "    with open(filename, \"w\") as file:\n",
    "        for line in lines:\n",
    "            file.write(line + \"\\n\")\n",
    "    print(\"List of strings written to file:\", filename)\n",
    "\n",
    "lines_to_write = [\"Python is great\", \"Data Science\", \"AI and ML\"]\n",
    "file_path_38 = r\"C:\\Users\\user\\Documents\\Tekher_Program\\TekHer-Python-Basics\\data\\essay.txt\"\n",
    "write_lines_to_file(lines_to_write, file_path_38)"
   ]
  },
  {
   "cell_type": "markdown",
   "id": "f19c6028-7f24-4728-8598-ba01ac9ee1b3",
   "metadata": {},
   "source": [
    "### Exercise 39"
   ]
  },
  {
   "cell_type": "code",
   "execution_count": 221,
   "id": "1e84f9ae-8936-4f07-8164-2d11b66a9421",
   "metadata": {},
   "outputs": [
    {
     "name": "stdout",
     "output_type": "stream",
     "text": [
      "Number of lines starting with 'A': 0\n"
     ]
    }
   ],
   "source": [
    "# Exercise 39\n",
    "file_path_39 = os.path.join(base_path, \"article.txt\")\n",
    "letter = \"A\"\n",
    "with open(file_path_39, \"r\") as file:\n",
    "    count = sum(1 for line in file if line.startswith(letter))\n",
    "print(f\"Number of lines starting with '{letter}':\", count)"
   ]
  },
  {
   "cell_type": "markdown",
   "id": "f205fead-5e94-41ef-9d09-c5b7230a01cc",
   "metadata": {},
   "source": [
    "### Exercise 40"
   ]
  },
  {
   "cell_type": "code",
   "execution_count": 219,
   "id": "51932ab4-7834-47e1-af33-27e427c80bf9",
   "metadata": {},
   "outputs": [
    {
     "name": "stdout",
     "output_type": "stream",
     "text": [
      "Reversed string written to 'output.txt'.\n"
     ]
    }
   ],
   "source": [
    "def write_reversed_string(text):\n",
    "    reversed_text = text[::-1]\n",
    "    output_path = os.path.join(base_path, \"output.txt\")\n",
    "    with open(output_path, \"w\") as file:\n",
    "        file.write(reversed_text)\n",
    "    print(\"Reversed string written to 'output.txt'.\")\n",
    "\n",
    "write_reversed_string(\"Python is fun!\")"
   ]
  },
  {
   "cell_type": "markdown",
   "id": "0e5fad39-2a76-4c12-b616-e94b96ffaea2",
   "metadata": {},
   "source": [
    "### Exercise 41"
   ]
  },
  {
   "cell_type": "code",
   "execution_count": 217,
   "id": "943a7ca0-5019-4d7e-8c96-889db6333e54",
   "metadata": {},
   "outputs": [
    {
     "name": "stdout",
     "output_type": "stream",
     "text": [
      "Lines containing 'Python': []\n"
     ]
    }
   ],
   "source": [
    "import os\n",
    "from collections import Counter\n",
    "import string\n",
    "\n",
    "base_path = r\"C:\\Users\\user\\Documents\\Tekher_Program\\TekHer-Python-Basics\\data\"\n",
    "# Exercise 41\n",
    "file_path_41 = os.path.join(base_path, \"essay.txt\")\n",
    "with open(file_path_41, \"r\") as file:\n",
    "    lines_with_python = [line.strip() for line in file if \"Python\" in line]\n",
    "print(\"Lines containing 'Python':\", lines_with_python)"
   ]
  },
  {
   "cell_type": "markdown",
   "id": "5fb8e4d9-2a6b-4708-b39a-3262206ad1cf",
   "metadata": {},
   "source": [
    "### Exercise 42"
   ]
  },
  {
   "cell_type": "code",
   "execution_count": 206,
   "id": "21c1d560-ee8a-4a0c-a269-757026ecfe2a",
   "metadata": {},
   "outputs": [
    {
     "name": "stdout",
     "output_type": "stream",
     "text": [
      "Numeric digits removed from 'essay.txt'.\n"
     ]
    }
   ],
   "source": [
    "# Exercise 42\n",
    "file_path_42 = os.path.join(base_path, \"essay.txt\")\n",
    "with open(file_path_42, \"r\") as file:\n",
    "    content = file.read()\n",
    "no_digits = ''.join(char for char in content if not char.isdigit())\n",
    "with open(file_path_42, \"w\") as file:\n",
    "    file.write(no_digits)\n",
    "print(\"Numeric digits removed from 'essay.txt'.\")\n"
   ]
  },
  {
   "cell_type": "markdown",
   "id": "8c533d08-98e9-4939-8684-8148eaaab6be",
   "metadata": {},
   "source": [
    "### Exercise 43"
   ]
  },
  {
   "cell_type": "code",
   "execution_count": 178,
   "id": "8e19af01-0161-4466-9614-3c5a3454b896",
   "metadata": {},
   "outputs": [
    {
     "name": "stdout",
     "output_type": "stream",
     "text": [
      "The most frequent word is 'python' with 3 occurrences.\n"
     ]
    }
   ],
   "source": [
    "# Create book.txt with some sample text\n",
    "with open(\"book.txt\", \"w\") as file:\n",
    "    file.write(\"Python is great. Python is powerful. Python is easy to learn.\")\n",
    "\n",
    "# Now count the most frequent word\n",
    "from collections import Counter\n",
    "\n",
    "with open(\"book.txt\", \"r\") as file:\n",
    "    words = file.read().lower().split()\n",
    "    words = [word.strip(\".,!?\") for word in words]  # remove punctuation\n",
    "    most_common = Counter(words).most_common(1)[0]\n",
    "\n",
    "print(f\"The most frequent word is '{most_common[0]}' with {most_common[1]} occurrences.\")\n"
   ]
  },
  {
   "cell_type": "markdown",
   "id": "74b8bf4e-f0f1-4c5c-8d33-237d640d11d5",
   "metadata": {},
   "source": [
    "### Exercise 44"
   ]
  },
  {
   "cell_type": "code",
   "execution_count": 176,
   "id": "d855caff-a467-437a-b757-3e883a04a82f",
   "metadata": {},
   "outputs": [
    {
     "name": "stdout",
     "output_type": "stream",
     "text": [
      "This line has five words\n",
      "One two three four five\n"
     ]
    }
   ],
   "source": [
    "# Step 1: Create file.txt with sample content\n",
    "with open(\"file.txt\", \"w\") as file:\n",
    "    file.write(\"This line has five words\\n\")\n",
    "    file.write(\"Just four here\\n\")\n",
    "    file.write(\"Exactly five words again\\n\")\n",
    "    file.write(\"One two three four five\\n\")\n",
    "    file.write(\"This one has six words total\\n\")\n",
    "\n",
    "# Step 2: Read and print lines with exactly 5 words\n",
    "with open(\"file.txt\", \"r\") as file:\n",
    "    for line in file:\n",
    "        if len(line.split()) == 5:\n",
    "            print(line.strip())\n"
   ]
  },
  {
   "cell_type": "markdown",
   "id": "ce278f3e-d582-4cbd-8e92-b8c9f419c407",
   "metadata": {},
   "source": [
    "### Exercise 45"
   ]
  },
  {
   "cell_type": "code",
   "execution_count": 174,
   "id": "3177543b-550f-4867-8fef-9e5de6612b79",
   "metadata": {},
   "outputs": [
    {
     "name": "stdout",
     "output_type": "stream",
     "text": [
      "First line: First line\n",
      "Last line: Third line\n"
     ]
    }
   ],
   "source": [
    "# Step 1: Create file.txt if it does not exist\n",
    "with open(\"file.txt\", \"w\") as file:\n",
    "    file.write(\"First line\\n\")\n",
    "    file.write(\"Second line\\n\")\n",
    "    file.write(\"Third line\\n\")\n",
    "\n",
    "# Step 2: Now safely read and use the file\n",
    "with open(\"file.txt\", \"r\") as file:\n",
    "    lines = file.readlines()\n",
    "    if lines:\n",
    "        print(\"First line:\", lines[0].strip())\n",
    "        print(\"Last line:\", lines[-1].strip())\n",
    "    else:\n",
    "        print(\"The file is empty.\")\n"
   ]
  },
  {
   "cell_type": "markdown",
   "id": "96a96efd-4127-4d53-a507-0d44899e3034",
   "metadata": {},
   "source": [
    "### Exercise 46"
   ]
  },
  {
   "cell_type": "code",
   "execution_count": 150,
   "id": "eebae9a6-a057-4559-88bb-e8f7e833bd75",
   "metadata": {},
   "outputs": [
    {
     "name": "stdout",
     "output_type": "stream",
     "text": [
      "The file 'students.txt' is not writable.\n"
     ]
    }
   ],
   "source": [
    "if os.access(\"students.txt\", os.W_OK):\n",
    "    print(\"The file 'students.txt' is writable.\")\n",
    "else:\n",
    "    print(\"The file 'students.txt' is not writable.\")\n"
   ]
  },
  {
   "cell_type": "markdown",
   "id": "9d57a6a1-e9a8-4904-aebf-4c8fb6bf250e",
   "metadata": {},
   "source": [
    "### Exercise 47"
   ]
  },
  {
   "cell_type": "code",
   "execution_count": 215,
   "id": "e2126416-ded1-4137-980d-427555b8dcbd",
   "metadata": {},
   "outputs": [
    {
     "name": "stdout",
     "output_type": "stream",
     "text": [
      "Number of unique words in 'essay.txt': 10\n"
     ]
    }
   ],
   "source": [
    "\n",
    "#  Exercise 47 (using essay.txt)\n",
    "import string\n",
    "\n",
    "def count_unique_words(file_path):\n",
    "    with open(file_path, \"r\") as file:\n",
    "        words = file.read().lower().translate(str.maketrans(\"\", \"\", string.punctuation)).split()\n",
    "    unique = set(words)\n",
    "    return len(unique)\n",
    "\n",
    "file_path_47 = r\"C:\\Users\\user\\Documents\\Tekher_Program\\TekHer-Python-Basics\\data\\essay.txt\"\n",
    "print(\"Number of unique words in 'essay.txt':\", count_unique_words(file_path_47))"
   ]
  },
  {
   "cell_type": "markdown",
   "id": "eabf9eb8-e0b5-49a0-a54b-4f4518b9098f",
   "metadata": {},
   "source": [
    "### Exercise 48"
   ]
  },
  {
   "cell_type": "code",
   "execution_count": 172,
   "id": "d70b4b79-36f3-4dca-b3cf-f948a86ff037",
   "metadata": {},
   "outputs": [
    {
     "name": "stdout",
     "output_type": "stream",
     "text": [
      "Line three\n",
      "Line two\n",
      "Line one\n"
     ]
    }
   ],
   "source": [
    "# Step 1: Create the file with some sample content\n",
    "with open(\"file.txt\", \"w\") as file:\n",
    "    file.write(\"Line one\\n\")\n",
    "    file.write(\"Line two\\n\")\n",
    "    file.write(\"Line three\\n\")\n",
    "\n",
    "# Step 2: Read and print the lines in reverse order\n",
    "with open(\"file.txt\", \"r\") as file:\n",
    "    lines = file.readlines()\n",
    "\n",
    "for line in reversed(lines):\n",
    "    print(line.strip())\n",
    "\n"
   ]
  },
  {
   "cell_type": "markdown",
   "id": "c36855af-5df6-42f8-8929-7582f85f4313",
   "metadata": {},
   "source": [
    "### Exercise 49"
   ]
  },
  {
   "cell_type": "code",
   "execution_count": 209,
   "id": "f6ed66a9-cafb-4a0f-a704-3b048bd4a8c0",
   "metadata": {},
   "outputs": [],
   "source": [
    "# Exercise 49\n",
    "def most_common_letter(file_path):\n",
    "    with open(file_path, \"r\") as file:\n",
    "        text = file.read().lower()\n",
    "    letters = [c for c in text if c.isalpha()]\n",
    "    return Counter(letters).most_common(1)[0][0]"
   ]
  },
  {
   "cell_type": "markdown",
   "id": "22e8bd8d-6fa0-49bb-b310-19d07af66d4a",
   "metadata": {},
   "source": [
    "### Exercise 50"
   ]
  },
  {
   "cell_type": "code",
   "execution_count": 211,
   "id": "c20dc38d-38d1-4d32-95be-2437a644677a",
   "metadata": {},
   "outputs": [
    {
     "name": "stdout",
     "output_type": "stream",
     "text": [
      "Replaced 'Python' with 'Java' in 'essay.txt'.\n"
     ]
    }
   ],
   "source": [
    "# Exercise 50\n",
    "file_path_50 = os.path.join(base_path, \"essay.txt\")\n",
    "with open(file_path_50, \"r\") as file:\n",
    "    content = file.read()\n",
    "updated_content = content.replace(\"Python\", \"Java\")\n",
    "with open(file_path_50, \"w\") as file:\n",
    "    file.write(updated_content)\n",
    "print(\"Replaced 'Python' with 'Java' in 'essay.txt'.\")"
   ]
  },
  {
   "cell_type": "code",
   "execution_count": null,
   "id": "af8f2e02-03b8-4fa2-a2c4-5ab6405c80cc",
   "metadata": {},
   "outputs": [],
   "source": []
  }
 ],
 "metadata": {
  "kernelspec": {
   "display_name": "Python [conda env:base] *",
   "language": "python",
   "name": "conda-base-py"
  },
  "language_info": {
   "codemirror_mode": {
    "name": "ipython",
    "version": 3
   },
   "file_extension": ".py",
   "mimetype": "text/x-python",
   "name": "python",
   "nbconvert_exporter": "python",
   "pygments_lexer": "ipython3",
   "version": "3.12.7"
  }
 },
 "nbformat": 4,
 "nbformat_minor": 5
}
