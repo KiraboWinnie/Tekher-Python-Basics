{
 "cells": [
  {
   "cell_type": "markdown",
   "id": "ad2e10fe-7226-4fba-adbb-88ce61416622",
   "metadata": {},
   "source": [
    "# Practical_6: Numpy"
   ]
  },
  {
   "cell_type": "code",
   "execution_count": 6,
   "id": "809afdf7-d562-4cbf-bb9a-e546ba54b1b2",
   "metadata": {},
   "outputs": [],
   "source": [
    "import numpy as np"
   ]
  },
  {
   "cell_type": "markdown",
   "id": "de325ed6",
   "metadata": {},
   "source": [
    "---\n",
    "\n",
    "### Exercise 1:\n",
    "Create a NumPy array of integers from 1 to 10.\n"
   ]
  },
  {
   "cell_type": "code",
   "execution_count": 9,
   "id": "9b904697",
   "metadata": {},
   "outputs": [
    {
     "data": {
      "text/plain": [
       "array([ 1,  2,  3,  4,  5,  6,  7,  8,  9, 10])"
      ]
     },
     "execution_count": 9,
     "metadata": {},
     "output_type": "execute_result"
    }
   ],
   "source": [
    "# Exercise 1\n",
    "f_array = np.arange(1, 11)\n",
    "f_array"
   ]
  },
  {
   "cell_type": "markdown",
   "id": "49a5d36d-7c32-41bf-a348-c37d661982e4",
   "metadata": {},
   "source": [
    "\n",
    "\n",
    "### Exercise 2:\n",
    "Create a 3x3 NumPy array filled with zeros.\n"
   ]
  },
  {
   "cell_type": "code",
   "execution_count": 16,
   "id": "875235f1",
   "metadata": {},
   "outputs": [
    {
     "data": {
      "text/plain": [
       "array([[0., 0., 0.],\n",
       "       [0., 0., 0.],\n",
       "       [0., 0., 0.]])"
      ]
     },
     "execution_count": 16,
     "metadata": {},
     "output_type": "execute_result"
    }
   ],
   "source": [
    "# Exercise 2\n",
    "s_array = np.zeros((3, 3))\n",
    "s_array"
   ]
  },
  {
   "cell_type": "markdown",
   "id": "a542ea80",
   "metadata": {},
   "source": [
    "\n",
    "---\n",
    "\n",
    "### Exercise 3:\n",
    "Create a NumPy array of 10 evenly spaced numbers between 0 and 5.\n"
   ]
  },
  {
   "cell_type": "code",
   "execution_count": 19,
   "id": "97c6ba4a",
   "metadata": {},
   "outputs": [
    {
     "data": {
      "text/plain": [
       "array([0.        , 0.55555556, 1.11111111, 1.66666667, 2.22222222,\n",
       "       2.77777778, 3.33333333, 3.88888889, 4.44444444, 5.        ])"
      ]
     },
     "execution_count": 19,
     "metadata": {},
     "output_type": "execute_result"
    }
   ],
   "source": [
    "# Exercise 3\n",
    "T_array = np.linspace(0, 5, 10)\n",
    "T_array "
   ]
  },
  {
   "cell_type": "markdown",
   "id": "e92d80cc",
   "metadata": {},
   "source": [
    "\n",
    "---\n",
    "\n",
    "### Exercise 4:\n",
    "Create a 5x5 identity matrix using NumPy.\n"
   ]
  },
  {
   "cell_type": "code",
   "execution_count": 22,
   "id": "c5213bd2",
   "metadata": {},
   "outputs": [
    {
     "data": {
      "text/plain": [
       "array([[1., 0., 0., 0., 0.],\n",
       "       [0., 1., 0., 0., 0.],\n",
       "       [0., 0., 1., 0., 0.],\n",
       "       [0., 0., 0., 1., 0.],\n",
       "       [0., 0., 0., 0., 1.]])"
      ]
     },
     "execution_count": 22,
     "metadata": {},
     "output_type": "execute_result"
    }
   ],
   "source": [
    "# Exercise 4\n",
    "fo_array  = np.eye(5)\n",
    "fo_array "
   ]
  },
  {
   "cell_type": "markdown",
   "id": "a16f88e7",
   "metadata": {},
   "source": [
    "\n",
    "---\n",
    "\n",
    "### Exercise 5:\n",
    "Create a 4x4 matrix with random values between 0 and 1.\n"
   ]
  },
  {
   "cell_type": "code",
   "execution_count": 25,
   "id": "2b16922b",
   "metadata": {},
   "outputs": [
    {
     "data": {
      "text/plain": [
       "array([[0.2393427 , 0.97646408, 0.33147967, 0.90240665],\n",
       "       [0.29559246, 0.57780586, 0.93671353, 0.25769445],\n",
       "       [0.51905703, 0.93509244, 0.10467275, 0.74637255],\n",
       "       [0.65750538, 0.42004901, 0.03829345, 0.12431183]])"
      ]
     },
     "execution_count": 25,
     "metadata": {},
     "output_type": "execute_result"
    }
   ],
   "source": [
    "# Exercise 5\n",
    "fi_array = np.random.rand(4, 4)\n",
    "fi_array\n"
   ]
  },
  {
   "cell_type": "markdown",
   "id": "cc9af8fd",
   "metadata": {},
   "source": [
    "\n",
    "---\n",
    "\n",
    "### Exercise 6:\n",
    "Find the shape of a NumPy array.\n"
   ]
  },
  {
   "cell_type": "code",
   "execution_count": 28,
   "id": "359864d2",
   "metadata": {},
   "outputs": [
    {
     "data": {
      "text/plain": [
       "(5, 5)"
      ]
     },
     "execution_count": 28,
     "metadata": {},
     "output_type": "execute_result"
    }
   ],
   "source": [
    "# Exercise 6\n",
    "array_shape =fo_array .shape\n",
    "array_shape\n"
   ]
  },
  {
   "cell_type": "markdown",
   "id": "ada0aff6",
   "metadata": {},
   "source": [
    "\n",
    "---\n",
    "\n",
    "### Exercise 7:\n",
    "Reshape a 1D NumPy array of 16 elements into a 4x4 matrix.\n"
   ]
  },
  {
   "cell_type": "code",
   "execution_count": 31,
   "id": "43fcb4b3",
   "metadata": {},
   "outputs": [
    {
     "data": {
      "text/plain": [
       "array([[ 0,  1,  2,  3],\n",
       "       [ 4,  5,  6,  7],\n",
       "       [ 8,  9, 10, 11],\n",
       "       [12, 13, 14, 15]])"
      ]
     },
     "execution_count": 31,
     "metadata": {},
     "output_type": "execute_result"
    }
   ],
   "source": [
    "# Exercise 7\n",
    "id_array = np.arange(16).reshape(4, 4)\n",
    "id_array"
   ]
  },
  {
   "cell_type": "markdown",
   "id": "d384142a",
   "metadata": {},
   "source": [
    "\n",
    "---\n",
    "\n",
    "### Exercise 8:\n",
    "Find the data type of the elements in a NumPy array.\n"
   ]
  },
  {
   "cell_type": "code",
   "execution_count": 34,
   "id": "bf4dca5a",
   "metadata": {},
   "outputs": [
    {
     "data": {
      "text/plain": [
       "dtype('float64')"
      ]
     },
     "execution_count": 34,
     "metadata": {},
     "output_type": "execute_result"
    }
   ],
   "source": [
    "# Exercise 8\n",
    "data_type = fo_array.dtype\n",
    "data_type"
   ]
  },
  {
   "cell_type": "markdown",
   "id": "c295ca54",
   "metadata": {},
   "source": [
    "\n",
    "---\n",
    "\n",
    "### Exercise 9:\n",
    "Create a NumPy array of integers from 1 to 100 and find all even numbers in the array.\n"
   ]
  },
  {
   "cell_type": "code",
   "execution_count": 37,
   "id": "28a61c5e",
   "metadata": {},
   "outputs": [
    {
     "data": {
      "text/plain": [
       "array([ 2,  4,  6,  8, 10, 12, 14, 16, 18, 20, 22, 24, 26, 28, 30, 32, 34,\n",
       "       36, 38, 40, 42, 44, 46, 48, 50, 52, 54, 56, 58, 60, 62, 64, 66, 68,\n",
       "       70, 72, 74, 76, 78, 80, 82, 84, 86, 88, 90, 92, 94, 96, 98])"
      ]
     },
     "execution_count": 37,
     "metadata": {},
     "output_type": "execute_result"
    }
   ],
   "source": [
    "# Exercise 9\n",
    "num_array = np.arange(1,100)\n",
    "even = num_array[num_array% 2 ==0]\n",
    "even"
   ]
  },
  {
   "cell_type": "markdown",
   "id": "72103956",
   "metadata": {},
   "source": [
    "\n",
    "---\n",
    "\n",
    "### Exercise 10:\n",
    "Generate a 6x6 matrix of random integers between 10 and 50.\n"
   ]
  },
  {
   "cell_type": "code",
   "execution_count": 40,
   "id": "ce04300e",
   "metadata": {},
   "outputs": [
    {
     "data": {
      "text/plain": [
       "array([[44, 41, 12, 17, 16, 20],\n",
       "       [28, 18, 16, 17, 30, 35],\n",
       "       [49, 16, 46, 45, 24, 26],\n",
       "       [24, 45, 28, 20, 34, 21],\n",
       "       [14, 15, 35, 15, 41, 48],\n",
       "       [10, 46, 49, 26, 14, 15]])"
      ]
     },
     "execution_count": 40,
     "metadata": {},
     "output_type": "execute_result"
    }
   ],
   "source": [
    "# Exercise 10\n",
    "array_10 = np.random.randint(10, 51, (6, 6))\n",
    "array_10"
   ]
  },
  {
   "cell_type": "markdown",
   "id": "3dd1a085",
   "metadata": {},
   "source": [
    "\n",
    "---\n",
    "\n",
    "### Exercise 11:\n",
    "Slice a 2D NumPy array to extract a submatrix.\n"
   ]
  },
  {
   "cell_type": "code",
   "execution_count": 43,
   "id": "b8fc90ba",
   "metadata": {},
   "outputs": [
    {
     "data": {
      "text/plain": [
       "array([[16, 17, 30],\n",
       "       [46, 45, 24],\n",
       "       [28, 20, 34]])"
      ]
     },
     "execution_count": 43,
     "metadata": {},
     "output_type": "execute_result"
    }
   ],
   "source": [
    "# Exercise 11\n",
    "sub_matrix =array_10[1:4, 2:5]\n",
    "sub_matrix"
   ]
  },
  {
   "cell_type": "markdown",
   "id": "73a4344c",
   "metadata": {},
   "source": [
    "\n",
    "---\n",
    "\n",
    "### Exercise 12:\n",
    "Calculate the sum of all elements in a NumPy array.\n"
   ]
  },
  {
   "cell_type": "code",
   "execution_count": 46,
   "id": "3c417ff3",
   "metadata": {},
   "outputs": [
    {
     "data": {
      "text/plain": [
       "4950"
      ]
     },
     "execution_count": 46,
     "metadata": {},
     "output_type": "execute_result"
    }
   ],
   "source": [
    "# Exercise 12\n",
    "sum_9 = num_array.sum()\n",
    "sum_9"
   ]
  },
  {
   "cell_type": "markdown",
   "id": "c2346362",
   "metadata": {},
   "source": [
    "\n",
    "---\n",
    "\n",
    "### Exercise 13:\n",
    "Calculate the mean, median, and standard deviation of a NumPy array.\n"
   ]
  },
  {
   "cell_type": "code",
   "execution_count": 49,
   "id": "95e57182",
   "metadata": {},
   "outputs": [
    {
     "data": {
      "text/plain": [
       "12.592129621118968"
      ]
     },
     "execution_count": 49,
     "metadata": {},
     "output_type": "execute_result"
    }
   ],
   "source": [
    "# Exercise 13\n",
    "mean =np.mean (array_10)\n",
    "median = np.median(array_10)\n",
    "std = np.std(array_10)\n",
    "std"
   ]
  },
  {
   "cell_type": "markdown",
   "id": "67a4fdbd",
   "metadata": {},
   "source": [
    "\n",
    "---\n",
    "\n",
    "### Exercise 14:\n",
    "Find the maximum and minimum values in a NumPy array.\n"
   ]
  },
  {
   "cell_type": "code",
   "execution_count": 52,
   "id": "7959c765",
   "metadata": {},
   "outputs": [
    {
     "name": "stdout",
     "output_type": "stream",
     "text": [
      "1 99\n"
     ]
    }
   ],
   "source": [
    "# Exercise 14\n",
    "max_14 = num_array.max()\n",
    "min_14 = num_array.min()\n",
    "print(min_14, max_14)"
   ]
  },
  {
   "cell_type": "markdown",
   "id": "8a705cd1",
   "metadata": {},
   "source": [
    "\n",
    "---\n",
    "\n",
    "### Exercise 15:\n",
    "Create a NumPy array of 20 random integers and find the index of the maximum value.\n"
   ]
  },
  {
   "cell_type": "code",
   "execution_count": 55,
   "id": "c6748d73",
   "metadata": {},
   "outputs": [
    {
     "data": {
      "text/plain": [
       "3"
      ]
     },
     "execution_count": 55,
     "metadata": {},
     "output_type": "execute_result"
    }
   ],
   "source": [
    "# Exercise 15\n",
    "num_15 = np.random.randint(0, 200, 20)\n",
    "max_index15 = np.argmax(num_15)\n",
    "max_index15 "
   ]
  },
  {
   "cell_type": "markdown",
   "id": "467ca6ac",
   "metadata": {},
   "source": [
    "\n",
    "---\n",
    "\n",
    "### Exercise 16:\n",
    "Create a NumPy array and reverse its elements.\n"
   ]
  },
  {
   "cell_type": "code",
   "execution_count": 58,
   "id": "0a178eb6",
   "metadata": {},
   "outputs": [
    {
     "data": {
      "text/plain": [
       "array([18, 17, 16, 15, 14, 13, 12, 11, 10,  9,  8,  7,  6,  5,  4,  3,  2,\n",
       "        1])"
      ]
     },
     "execution_count": 58,
     "metadata": {},
     "output_type": "execute_result"
    }
   ],
   "source": [
    "# Exercise 16\n",
    "array_16 = np.arange(1,19)[::-1]\n",
    "array_16"
   ]
  },
  {
   "cell_type": "markdown",
   "id": "b7d8ec92",
   "metadata": {},
   "source": [
    "\n",
    "---\n",
    "\n",
    "### Exercise 17:\n",
    "Create a 3x3 matrix and multiply it element-wise by another 3x3 matrix.\n"
   ]
  },
  {
   "cell_type": "code",
   "execution_count": 61,
   "id": "847ddc05",
   "metadata": {},
   "outputs": [
    {
     "data": {
      "text/plain": [
       "array([[209, 247,  45],\n",
       "       [368, 104,  32],\n",
       "       [456,  33, 480]])"
      ]
     },
     "execution_count": 61,
     "metadata": {},
     "output_type": "execute_result"
    }
   ],
   "source": [
    "# Exercise 17\n",
    "matrix_1 = np.random.randint(1,20,(3,3))\n",
    "matrix_2 = np.random.randint(1,40,(3,3))\n",
    "elemnt_wse = matrix_1*matrix_2\n",
    "elemnt_wse"
   ]
  },
  {
   "cell_type": "markdown",
   "id": "58512446",
   "metadata": {},
   "source": [
    "\n",
    "---\n",
    "\n",
    "### Exercise 18:\n",
    "Create a diagonal matrix from a given 1D array.\n"
   ]
  },
  {
   "cell_type": "code",
   "execution_count": 64,
   "id": "bd7e9321",
   "metadata": {},
   "outputs": [
    {
     "data": {
      "text/plain": [
       "array([[1, 0, 0, 0, 0],\n",
       "       [0, 2, 0, 0, 0],\n",
       "       [0, 0, 3, 0, 0],\n",
       "       [0, 0, 0, 4, 0],\n",
       "       [0, 0, 0, 0, 5]])"
      ]
     },
     "execution_count": 64,
     "metadata": {},
     "output_type": "execute_result"
    }
   ],
   "source": [
    "# Exercise 18\n",
    "array_18 = np.array([1, 2, 3, 4,5])\n",
    "diag_18 = np.diag(array_18)\n",
    "diag_18"
   ]
  },
  {
   "cell_type": "markdown",
   "id": "10be19e0",
   "metadata": {},
   "source": [
    "\n",
    "---\n",
    "\n",
    "### Exercise 19:\n",
    "Perform matrix multiplication on two 2D NumPy arrays.\n"
   ]
  },
  {
   "cell_type": "code",
   "execution_count": 67,
   "id": "c287973c",
   "metadata": {},
   "outputs": [
    {
     "ename": "NameError",
     "evalue": "name 'matrx_4' is not defined",
     "output_type": "error",
     "traceback": [
      "\u001b[1;31m---------------------------------------------------------------------------\u001b[0m",
      "\u001b[1;31mNameError\u001b[0m                                 Traceback (most recent call last)",
      "Cell \u001b[1;32mIn[67], line 4\u001b[0m\n\u001b[0;32m      2\u001b[0m matrx_3 \u001b[38;5;241m=\u001b[39m np\u001b[38;5;241m.\u001b[39marray([[\u001b[38;5;241m1\u001b[39m, \u001b[38;5;241m4\u001b[39m], [\u001b[38;5;241m2\u001b[39m, \u001b[38;5;241m4\u001b[39m]])\n\u001b[0;32m      3\u001b[0m matrx4 \u001b[38;5;241m=\u001b[39m np\u001b[38;5;241m.\u001b[39marray([[\u001b[38;5;241m8\u001b[39m, \u001b[38;5;241m6\u001b[39m], [\u001b[38;5;241m10\u001b[39m, \u001b[38;5;241m8\u001b[39m]])\n\u001b[1;32m----> 4\u001b[0m product \u001b[38;5;241m=\u001b[39m np\u001b[38;5;241m.\u001b[39mdot(matrx_3, matrx_4)\n\u001b[0;32m      5\u001b[0m product\n",
      "\u001b[1;31mNameError\u001b[0m: name 'matrx_4' is not defined"
     ]
    }
   ],
   "source": [
    "# Exercise 19\n",
    "matrx_3 = np.array([[1, 4], [2, 4]])\n",
    "matrx4 = np.array([[8, 6], [10, 8]])\n",
    "product = np.dot(matrx_3, matrx_4)\n",
    "product"
   ]
  },
  {
   "cell_type": "markdown",
   "id": "932aa100",
   "metadata": {},
   "source": [
    "\n",
    "---\n",
    "\n",
    "### Exercise 20:\n",
    "Flatten a 2D NumPy array into a 1D array.\n"
   ]
  },
  {
   "cell_type": "code",
   "execution_count": null,
   "id": "0b2a7505",
   "metadata": {},
   "outputs": [],
   "source": [
    "# Exercise 20\n",
    "flat_array = matrx_4.flatten()\n",
    "flat_array"
   ]
  },
  {
   "cell_type": "markdown",
   "id": "43e4204e",
   "metadata": {},
   "source": [
    "\n",
    "---\n",
    "\n",
    "### Exercise 21:\n",
    "Stack two NumPy arrays vertically.\n"
   ]
  },
  {
   "cell_type": "code",
   "execution_count": 71,
   "id": "2fab6ed6",
   "metadata": {},
   "outputs": [
    {
     "data": {
      "text/plain": [
       "array([[ 1,  5],\n",
       "       [ 3,  9],\n",
       "       [ 5, 11]])"
      ]
     },
     "execution_count": 71,
     "metadata": {},
     "output_type": "execute_result"
    }
   ],
   "source": [
    "# Exercise 21\n",
    "array_1 = np.array([[1, 5], [3, 9]])\n",
    "array_2 = np.array([[5, 11]])\n",
    "stacked_v = np.vstack((array_1, array_2))\n",
    "stacked_v"
   ]
  },
  {
   "cell_type": "markdown",
   "id": "54a62aed",
   "metadata": {},
   "source": [
    "\n",
    "---\n",
    "\n",
    "### Exercise 22:\n",
    "Stack two NumPy arrays horizontally.\n"
   ]
  },
  {
   "cell_type": "code",
   "execution_count": 74,
   "id": "38c62fcb",
   "metadata": {},
   "outputs": [
    {
     "data": {
      "text/plain": [
       "array([[ 1,  5,  5],\n",
       "       [ 3,  9, 11]])"
      ]
     },
     "execution_count": 74,
     "metadata": {},
     "output_type": "execute_result"
    }
   ],
   "source": [
    "# Exercise 22\n",
    "stacked_h = np.hstack((array_1, array_2.T))\n",
    "stacked_h"
   ]
  },
  {
   "cell_type": "markdown",
   "id": "348ee442",
   "metadata": {},
   "source": [
    "\n",
    "---\n",
    "\n",
    "### Exercise 23:\n",
    "Split a NumPy array into multiple sub-arrays.\n"
   ]
  },
  {
   "cell_type": "code",
   "execution_count": 144,
   "id": "bb591997",
   "metadata": {},
   "outputs": [
    {
     "data": {
      "text/plain": [
       "[array([0, 1, 2, 3]),\n",
       " array([4, 5, 6, 7]),\n",
       " array([ 8,  9, 10, 11]),\n",
       " array([12, 13, 14, 15])]"
      ]
     },
     "execution_count": 144,
     "metadata": {},
     "output_type": "execute_result"
    }
   ],
   "source": [
    "# Exercise 23\n",
    "array_23 = np.arange(16)\n",
    "split_23 = np.split(array_23, 4)\n",
    "split_23"
   ]
  },
  {
   "cell_type": "markdown",
   "id": "b1f38f5f",
   "metadata": {},
   "source": [
    "\n",
    "---\n",
    "\n",
    "### Exercise 24:\n",
    "Generate a random NumPy array and round each element to two decimal places.\n"
   ]
  },
  {
   "cell_type": "code",
   "execution_count": 156,
   "id": "9627a34c",
   "metadata": {},
   "outputs": [
    {
     "data": {
      "text/plain": [
       "array([[0.98, 0.36, 0.36],\n",
       "       [0.48, 0.38, 0.55],\n",
       "       [0.25, 0.57, 0.04]])"
      ]
     },
     "execution_count": 156,
     "metadata": {},
     "output_type": "execute_result"
    }
   ],
   "source": [
    "# Exercise 24\n",
    "array_24 = np.random.rand(3, 3)\n",
    "round_24 = np.round(array_24, 2)\n",
    "round_24\n"
   ]
  },
  {
   "cell_type": "markdown",
   "id": "33eff49a",
   "metadata": {},
   "source": [
    "\n",
    "---\n",
    "\n",
    "### Exercise 25:\n",
    "Find the unique elements of a NumPy array.\n"
   ]
  },
  {
   "cell_type": "code",
   "execution_count": 158,
   "id": "820d6014",
   "metadata": {},
   "outputs": [
    {
     "data": {
      "text/plain": [
       "array([2, 3, 4])"
      ]
     },
     "execution_count": 158,
     "metadata": {},
     "output_type": "execute_result"
    }
   ],
   "source": [
    "# Exercise 25\n",
    "array_25 = np.array([3, 2, 4, 2, 4, 4])\n",
    "unique_ele = np.unique(array_25)\n",
    "unique_ele"
   ]
  },
  {
   "cell_type": "markdown",
   "id": "a82dfd26",
   "metadata": {},
   "source": [
    "\n",
    "---\n",
    "\n",
    "### Exercise 26:\n",
    "Replace all elements in a NumPy array that are less than a specific value with that value.\n"
   ]
  },
  {
   "cell_type": "code",
   "execution_count": 162,
   "id": "9317d8ff",
   "metadata": {},
   "outputs": [
    {
     "data": {
      "text/plain": [
       "array([4, 6, 4, 4, 8])"
      ]
     },
     "execution_count": 162,
     "metadata": {},
     "output_type": "execute_result"
    }
   ],
   "source": [
    "# Exercise 26\n",
    "array_26 = np.array([1, 6, 3, 2, 8])\n",
    "array_26[array_26 < 4] = 4\n",
    "array_26"
   ]
  },
  {
   "cell_type": "markdown",
   "id": "0b211e1c",
   "metadata": {},
   "source": [
    "\n",
    "---\n",
    "\n",
    "### Exercise 27:\n",
    "Find the cumulative sum of the elements in a NumPy array.\n"
   ]
  },
  {
   "cell_type": "code",
   "execution_count": 164,
   "id": "d03b7264",
   "metadata": {},
   "outputs": [
    {
     "data": {
      "text/plain": [
       "array([ 1,  3, 13])"
      ]
     },
     "execution_count": 164,
     "metadata": {},
     "output_type": "execute_result"
    }
   ],
   "source": [
    "# Exercise 27\n",
    "array_27 = np.array([1, 2, 10])\n",
    "cum_sum = np.cumsum(array_27)\n",
    "cum_sum"
   ]
  },
  {
   "cell_type": "markdown",
   "id": "837642b7",
   "metadata": {},
   "source": [
    "\n",
    "---\n",
    "\n",
    "### Exercise 28:\n",
    "Create a NumPy array and find the number of non-zero elements in it.\n"
   ]
  },
  {
   "cell_type": "code",
   "execution_count": 170,
   "id": "fa2565c6",
   "metadata": {},
   "outputs": [
    {
     "data": {
      "text/plain": [
       "2"
      ]
     },
     "execution_count": 170,
     "metadata": {},
     "output_type": "execute_result"
    }
   ],
   "source": [
    "# Exercise 28\n",
    "array_28 = np.array([0, 0, 0, 2, 4 , 0])\n",
    "nonzero_ele = np.count_nonzero(array_28)\n",
    "nonzero_ele"
   ]
  },
  {
   "cell_type": "markdown",
   "id": "7d1f3704",
   "metadata": {},
   "source": [
    "\n",
    "---\n",
    "\n",
    "### Exercise 29:\n",
    "Create a NumPy array of random integers and sort it in ascending order.\n"
   ]
  },
  {
   "cell_type": "code",
   "execution_count": 172,
   "id": "dfa23a6e",
   "metadata": {},
   "outputs": [
    {
     "data": {
      "text/plain": [
       "array([ 10,  24,  81,  94, 147, 153, 172, 174, 175, 199])"
      ]
     },
     "execution_count": 172,
     "metadata": {},
     "output_type": "execute_result"
    }
   ],
   "source": [
    "# Exercise 29\n",
    "array_29 = np.random.randint(0, 200, 10)\n",
    "sorted_int = np.sort(array_29)\n",
    "sorted_int"
   ]
  },
  {
   "cell_type": "markdown",
   "id": "295b7ea8",
   "metadata": {},
   "source": [
    "\n",
    "---\n",
    "\n",
    "### Exercise 30:\n",
    "Find the row-wise and column-wise sum of a 3x3 matrix.\n"
   ]
  },
  {
   "cell_type": "code",
   "execution_count": 174,
   "id": "963df701",
   "metadata": {},
   "outputs": [
    {
     "name": "stdout",
     "output_type": "stream",
     "text": [
      "[ 8  9 26] [13 15 15]\n"
     ]
    }
   ],
   "source": [
    "# Exercise 30\n",
    "matrx_30 = np.random.randint(1, 20, (3, 3))\n",
    "row_sum30 = mat30.sum(axis=1)\n",
    "col_sum30 = mat30.sum(axis=0)\n",
    "print(row_sum30, col_sum30)"
   ]
  },
  {
   "cell_type": "markdown",
   "id": "158756fa",
   "metadata": {},
   "source": [
    "\n",
    "---\n",
    "\n",
    "### Exercise 31:\n",
    "Generate a 2D NumPy array with random values and normalize it (scale the values between 0 and 1).\n"
   ]
  },
  {
   "cell_type": "code",
   "execution_count": 136,
   "id": "32ba8b29",
   "metadata": {},
   "outputs": [
    {
     "data": {
      "text/plain": [
       "array([[0.6827286 , 0.47661662, 0.        ],\n",
       "       [0.78729434, 1.        , 0.47747913],\n",
       "       [0.77028222, 0.87336041, 0.93302643]])"
      ]
     },
     "execution_count": 136,
     "metadata": {},
     "output_type": "execute_result"
    }
   ],
   "source": [
    "# Exercise 31\n",
    "array_31 = np.random.rand(3, 3)\n",
    "norm_31 = (array_31 - array_31.min()) / (array_31.max() - array_31.min())\n",
    "norm_31"
   ]
  },
  {
   "cell_type": "markdown",
   "id": "d3eeceaa",
   "metadata": {},
   "source": [
    "\n",
    "---\n",
    "\n",
    "### Exercise 32:\n",
    "Create two NumPy arrays and find the dot product.\n"
   ]
  },
  {
   "cell_type": "code",
   "execution_count": 134,
   "id": "5722e16b",
   "metadata": {},
   "outputs": [
    {
     "data": {
      "text/plain": [
       "14"
      ]
     },
     "execution_count": 134,
     "metadata": {},
     "output_type": "execute_result"
    }
   ],
   "source": [
    "# Exercise 32\n",
    "st_32 = np.array([2, 2])\n",
    "nd_32 = np.array([3, 4])\n",
    "dot_32 = np.dot(st_32, nd_32)\n",
    "dot_32"
   ]
  },
  {
   "cell_type": "markdown",
   "id": "5b0c848f",
   "metadata": {},
   "source": [
    "\n",
    "---\n",
    "\n",
    "### Exercise 33:\n",
    "Find the trace of a square NumPy matrix.\n"
   ]
  },
  {
   "cell_type": "code",
   "execution_count": 176,
   "id": "6d6e90c2",
   "metadata": {},
   "outputs": [
    {
     "data": {
      "text/plain": [
       "5"
      ]
     },
     "execution_count": 176,
     "metadata": {},
     "output_type": "execute_result"
    }
   ],
   "source": [
    "# Exercise 33\n",
    "matrx_33 = np.array([[1, 2], [6, 4]])\n",
    "trace = np.trace(matrx_33)\n",
    "trace"
   ]
  },
  {
   "cell_type": "markdown",
   "id": "74f1f77e",
   "metadata": {},
   "source": [
    "\n",
    "---\n",
    "\n",
    "### Exercise 34:\n",
    "Create a 2D array and swap two rows.\n"
   ]
  },
  {
   "cell_type": "code",
   "execution_count": 128,
   "id": "24621129",
   "metadata": {},
   "outputs": [
    {
     "data": {
      "text/plain": [
       "array([[3, 4],\n",
       "       [2, 4]])"
      ]
     },
     "execution_count": 128,
     "metadata": {},
     "output_type": "execute_result"
    }
   ],
   "source": [
    "# Exercise 34\n",
    "matrx_34 = np.array([[2, 4], [3, 4]])\n",
    "matrx_34[[0, 1]] = matrx_34[[1, 0]]\n",
    "matrx_34"
   ]
  },
  {
   "cell_type": "markdown",
   "id": "7875d348",
   "metadata": {},
   "source": [
    "\n",
    "---\n",
    "\n",
    "### Exercise 35:\n",
    "Create a 1D NumPy array and convert it into a column vector.\n"
   ]
  },
  {
   "cell_type": "code",
   "execution_count": 126,
   "id": "0039acda",
   "metadata": {},
   "outputs": [
    {
     "data": {
      "text/plain": [
       "array([[3],\n",
       "       [4],\n",
       "       [5]])"
      ]
     },
     "execution_count": 126,
     "metadata": {},
     "output_type": "execute_result"
    }
   ],
   "source": [
    "# Exercise 35\n",
    "array_35 = np.array([3, 4, 5])\n",
    "column_35 = array_35[:, np.newaxis]\n",
    "column_35"
   ]
  },
  {
   "cell_type": "markdown",
   "id": "234e605c",
   "metadata": {},
   "source": [
    "\n",
    "---\n",
    "\n",
    "### Exercise 36:\n",
    "Find the determinant of a 3x3 matrix.\n"
   ]
  },
  {
   "cell_type": "code",
   "execution_count": 122,
   "id": "9798d9c7",
   "metadata": {},
   "outputs": [
    {
     "data": {
      "text/plain": [
       "-68.00000000000001"
      ]
     },
     "execution_count": 122,
     "metadata": {},
     "output_type": "execute_result"
    }
   ],
   "source": [
    "# Exercise 36\n",
    "matrx_36 = np.array([[2, 2, 4], [0, 3, 4], [5, 6, 0]])\n",
    "determinant_36 = np.linalg.det(matrx_36)\n",
    "determinant_36"
   ]
  },
  {
   "cell_type": "markdown",
   "id": "6656af00",
   "metadata": {},
   "source": [
    "\n",
    "---\n",
    "\n",
    "### Exercise 37:\n",
    "Find the eigenvalues and eigenvectors of a 2x2 matrix.\n"
   ]
  },
  {
   "cell_type": "code",
   "execution_count": 118,
   "id": "89d64421",
   "metadata": {},
   "outputs": [
    {
     "name": "stdout",
     "output_type": "stream",
     "text": [
      "[7.37228132 1.62771868] [[0.95411001 0.29945634]\n",
      " [0.29945634 0.95411001]]\n"
     ]
    }
   ],
   "source": [
    "# Exercise 37\n",
    "matrx_37 = np.array([[8, -2], [2, 1]])\n",
    "eigvalues_37, eigvectors_s37 = np.linalg.eig(matrx_37)\n",
    "print(eigvalues_37, eigvectors_s37)"
   ]
  },
  {
   "cell_type": "markdown",
   "id": "7dc92bbb",
   "metadata": {},
   "source": [
    "\n",
    "---\n",
    "\n",
    "### Exercise 38:\n",
    "Solve a system of linear equations using NumPy.\n"
   ]
  },
  {
   "cell_type": "code",
   "execution_count": null,
   "id": "9aad2d7e",
   "metadata": {},
   "outputs": [],
   "source": [
    "# Exercise 38\n",
    "#Solve: 2x + 2y = 8, 2x + 4y = 10\n",
    "A_38 = np.array([[2, 2], [2, 4]])\n",
    "b_38 = np.array([8, 10])\n",
    "solution_ = np.linalg.solve(A_38, b_38)\n",
    "solution_"
   ]
  },
  {
   "cell_type": "markdown",
   "id": "4f146ae7",
   "metadata": {},
   "source": [
    "\n",
    "---\n",
    "\n",
    "### Exercise 39:\n",
    "Add Gaussian noise to a NumPy array.\n"
   ]
  },
  {
   "cell_type": "code",
   "execution_count": null,
   "id": "1162c82d",
   "metadata": {},
   "outputs": [],
   "source": [
    "# Exercise 39\n",
    "array_39 = np.array([2, 2, 3])\n",
    "noise_39 = np.random.normal(0, 1, array_39.shape)\n",
    "noisy_array_39 = array_39 + noise_39\n",
    "noisy_array_39"
   ]
  },
  {
   "cell_type": "markdown",
   "id": "24f6d12f",
   "metadata": {},
   "source": [
    "\n",
    "---\n",
    "\n",
    "### Exercise 40:\n",
    "Create a 4x4 matrix and extract the diagonal elements.\n"
   ]
  },
  {
   "cell_type": "code",
   "execution_count": null,
   "id": "228d823c",
   "metadata": {},
   "outputs": [],
   "source": [
    "# Exercise 40\n",
    "matrx_40 = np.random.randint(1, 12, (5, 5))\n",
    "diag_40 = np.diag(matrx_40)\n",
    "diag_40"
   ]
  },
  {
   "cell_type": "markdown",
   "id": "4ea2c82f-a79c-4843-bf5a-955de3ff2ad7",
   "metadata": {},
   "source": [
    "\n",
    "---\n",
    "\n",
    "### Exercise 41:\n",
    "Generate a NumPy array of 100 random values and clip the values to a range between 10 and 50.\n"
   ]
  },
  {
   "cell_type": "code",
   "execution_count": null,
   "id": "250c818c",
   "metadata": {},
   "outputs": [],
   "source": [
    "# Exercise 41\n",
    "array_41 = np.random.rand(100) * 100\n",
    "clip_41 = np.clip(arr41, 10, 50)\n",
    "clipp_41"
   ]
  },
  {
   "cell_type": "markdown",
   "id": "0aa4963a",
   "metadata": {},
   "source": [
    "\n",
    "---\n",
    "\n",
    "### Exercise 42:\n",
    "Create a 2D NumPy array and replace all negative values with zero.\n"
   ]
  },
  {
   "cell_type": "code",
   "execution_count": null,
   "id": "c33cf5e2",
   "metadata": {},
   "outputs": [],
   "source": [
    "# Exercise 42\n",
    "array_42 = np.array([[1, -3], [-5, 10]])\n",
    "array_42[array_42 < 0] = 0\n",
    "array_42"
   ]
  },
  {
   "cell_type": "markdown",
   "id": "9902ee70",
   "metadata": {},
   "source": [
    "\n",
    "---\n",
    "\n",
    "### Exercise 43:\n",
    "Find the inner and outer products of two NumPy arrays.\n"
   ]
  },
  {
   "cell_type": "code",
   "execution_count": 221,
   "id": "36f488c8",
   "metadata": {},
   "outputs": [
    {
     "name": "stdout",
     "output_type": "stream",
     "text": [
      "[[ 8 10]\n",
      " [12 15]] 23\n"
     ]
    }
   ],
   "source": [
    "# Exercise 43\n",
    "x_43 = np.array([2, 3])\n",
    "y_43 = np.array([4, 5])\n",
    "inner_43 = np.inner(x_43, y_43)\n",
    "outer_43 = np.outer(x_43, y_43)\n",
    "print(outer_43, inner_43)"
   ]
  },
  {
   "cell_type": "markdown",
   "id": "7dce9fa3",
   "metadata": {},
   "source": [
    "\n",
    "---\n",
    "\n",
    "### Exercise 44:\n",
    "Calculate the pairwise distances between points in a NumPy array.\n"
   ]
  },
  {
   "cell_type": "code",
   "execution_count": 219,
   "id": "94067655",
   "metadata": {},
   "outputs": [
    {
     "data": {
      "text/plain": [
       "array([[0.        , 1.14791753, 0.69531905, 0.38303061, 0.79854407,\n",
       "        0.70028963],\n",
       "       [1.14791753, 0.        , 0.59816111, 1.23161401, 1.07007366,\n",
       "        0.61640058],\n",
       "       [0.69531905, 0.59816111, 0.        , 0.70748124, 0.60460463,\n",
       "        0.35167791],\n",
       "       [0.38303061, 1.23161401, 0.70748124, 0.        , 0.81355768,\n",
       "        0.87388953],\n",
       "       [0.79854407, 1.07007366, 0.60460463, 0.81355768, 0.        ,\n",
       "        0.59594855],\n",
       "       [0.70028963, 0.61640058, 0.35167791, 0.87388953, 0.59594855,\n",
       "        0.        ]])"
      ]
     },
     "execution_count": 219,
     "metadata": {},
     "output_type": "execute_result"
    }
   ],
   "source": [
    "# Exercise 44\n",
    "points_44 = np.random.rand(6, 4)\n",
    "from scipy.spatial.distance import pdist, squareform\n",
    "pairwise_dist_44 = squareform(pdist(points_44 ))\n",
    "pairwise_dist_44 "
   ]
  },
  {
   "cell_type": "markdown",
   "id": "d4b272d3",
   "metadata": {},
   "source": [
    "\n",
    "---\n",
    "\n",
    "### Exercise 45:\n",
    "Create a structured NumPy array with fields for `name`, `age`, and `height`.\n"
   ]
  },
  {
   "cell_type": "code",
   "execution_count": 211,
   "id": "9b18e4f0",
   "metadata": {},
   "outputs": [
    {
     "data": {
      "text/plain": [
       "array([('Winnie', 35, 1.75), ('David', 26, 1.8 )],\n",
       "      dtype=[('name', '<U10'), ('age', '<i4'), ('height', '<f4')])"
      ]
     },
     "execution_count": 211,
     "metadata": {},
     "output_type": "execute_result"
    }
   ],
   "source": [
    "# Exercise 45\n",
    "array_45 = np.array([('Winnie', 35, 1.75), ('David', 26, 1.80)],\n",
    "                 dtype=[('name', 'U10'), ('age', 'i4'), ('height', 'f4')])\n",
    "array_45"
   ]
  },
  {
   "cell_type": "markdown",
   "id": "577f3e80",
   "metadata": {},
   "source": [
    "\n",
    "---\n",
    "\n",
    "### Exercise 46:\n",
    "Create a 5x5 matrix of random integers and count the occurrences of each unique value.\n"
   ]
  },
  {
   "cell_type": "code",
   "execution_count": 203,
   "id": "639b01fd",
   "metadata": {},
   "outputs": [
    {
     "data": {
      "text/plain": [
       "array([5, 5, 2, 1, 1, 2, 2, 6, 1], dtype=int64)"
      ]
     },
     "execution_count": 203,
     "metadata": {},
     "output_type": "execute_result"
    }
   ],
   "source": [
    "# Exercise 46\n",
    "matrx_46 = np.random.randint(0, 10, (5, 5))\n",
    "unique_vals_46, counts_46 = np.unique(matrx_46, return_counts=True)\n",
    "counts_46"
   ]
  },
  {
   "cell_type": "markdown",
   "id": "e716555f",
   "metadata": {},
   "source": [
    "\n",
    "---\n",
    "\n",
    "### Exercise 47:\n",
    "Generate a random 3x3 NumPy array and subtract the mean of each row from the corresponding row.\n"
   ]
  },
  {
   "cell_type": "code",
   "execution_count": 199,
   "id": "03747d27",
   "metadata": {},
   "outputs": [
    {
     "data": {
      "text/plain": [
       "array([[ 0.20735903,  0.2926186 , -0.49997763],\n",
       "       [-0.13617748, -0.32680639,  0.46298388],\n",
       "       [-0.01522347,  0.13474895, -0.11952548]])"
      ]
     },
     "execution_count": 199,
     "metadata": {},
     "output_type": "execute_result"
    }
   ],
   "source": [
    "# Exercise 47\n",
    "matrx_47 = np.random.rand(3, 3)\n",
    "mean_row_47 = matrx_47.mean(axis=1, keepdims=True)\n",
    "centered_47 = matrx_47 - mean_row_47\n",
    "centered_47"
   ]
  },
  {
   "cell_type": "markdown",
   "id": "89148fb1",
   "metadata": {},
   "source": [
    "\n",
    "---\n",
    "\n",
    "### Exercise 48:\n",
    "Create a NumPy array of random integers and check if any of the values are greater than 50.\n"
   ]
  },
  {
   "cell_type": "code",
   "execution_count": 197,
   "id": "d329ca63",
   "metadata": {},
   "outputs": [
    {
     "data": {
      "text/plain": [
       "True"
      ]
     },
     "execution_count": 197,
     "metadata": {},
     "output_type": "execute_result"
    }
   ],
   "source": [
    "# Exercise 48\n",
    "array_48 = np.random.randint(0, 99, 10)\n",
    "greater_50 = np.any(array_48 > 50)\n",
    "greater_50"
   ]
  },
  {
   "cell_type": "markdown",
   "id": "806622f5",
   "metadata": {},
   "source": [
    "\n",
    "---\n",
    "\n",
    "### Exercise 49:\n",
    "Calculate the moving average of a 1D NumPy array.\n"
   ]
  },
  {
   "cell_type": "code",
   "execution_count": 195,
   "id": "866232ff",
   "metadata": {},
   "outputs": [
    {
     "data": {
      "text/plain": [
       "array([0.35366946, 0.47015118, 0.47173702, 0.56398967, 0.48540269,\n",
       "       0.59001506, 0.52187627, 0.65350071, 0.57397589, 0.52475253])"
      ]
     },
     "execution_count": 195,
     "metadata": {},
     "output_type": "execute_result"
    }
   ],
   "source": [
    "# Exercise 49\n",
    "ID_array = np.random.rand(12)\n",
    "window = 3\n",
    "moving_average = np.convolve(ID_array, np.ones(window)/window, mode='valid')\n",
    "moving_average"
   ]
  },
  {
   "cell_type": "markdown",
   "id": "9313446b",
   "metadata": {},
   "source": [
    "\n",
    "---\n",
    "\n",
    "### Exercise 50:\n",
    "Find the Pearson correlation coefficient between two NumPy arrays.\n"
   ]
  },
  {
   "cell_type": "code",
   "execution_count": 191,
   "id": "09c184ab",
   "metadata": {},
   "outputs": [
    {
     "data": {
      "text/plain": [
       "0.18695958911784938"
      ]
     },
     "execution_count": 191,
     "metadata": {},
     "output_type": "execute_result"
    }
   ],
   "source": [
    "# Exercise 50\n",
    "array_x_50 = np.random.rand(10)\n",
    "array_y_50 = np.random.rand(10)\n",
    "correlation_50 = np.corrcoef(array_x_50,array_y_50)[0, 1]\n",
    "correlation_50"
   ]
  },
  {
   "cell_type": "markdown",
   "id": "8ee11395",
   "metadata": {},
   "source": [
    "\n",
    "---\n",
    "\n",
    "### Exercise 51:\n",
    "Convert a NumPy array of radians to degrees.\n"
   ]
  },
  {
   "cell_type": "code",
   "execution_count": 183,
   "id": "34ac5b8c",
   "metadata": {},
   "outputs": [
    {
     "data": {
      "text/plain": [
       "array([  0.,  90., 180.])"
      ]
     },
     "execution_count": 183,
     "metadata": {},
     "output_type": "execute_result"
    }
   ],
   "source": [
    "# Exercise 51\n",
    "rad_51 = np.array([0, np.pi/2, np.pi])\n",
    "degree_51 = np.degrees(rad_51)\n",
    "degree_51"
   ]
  },
  {
   "cell_type": "markdown",
   "id": "f4fd9563",
   "metadata": {},
   "source": [
    "\n",
    "---\n",
    "\n",
    "### Exercise 52:\n",
    "Create a random NumPy array and compute its variance and standard deviation.\n"
   ]
  },
  {
   "cell_type": "code",
   "execution_count": 177,
   "id": "0559791a",
   "metadata": {},
   "outputs": [
    {
     "name": "stdout",
     "output_type": "stream",
     "text": [
      "0.06499583333748964 0.2549428040512021\n"
     ]
    }
   ],
   "source": [
    "# Exercise 52\n",
    "array_52 = np.random.rand(12)\n",
    "variance_52 = np.var(array_52)\n",
    "std_52 = np.std(array_52)\n",
    "print(variance_52, std_52)"
   ]
  },
  {
   "cell_type": "markdown",
   "id": "b5bed93d",
   "metadata": {},
   "source": [
    "\n",
    "---\n",
    "\n",
    "### Exercise 53:\n",
    "Create a 2D NumPy array and find the indices of the maximum values along each axis.\n"
   ]
  },
  {
   "cell_type": "code",
   "execution_count": 171,
   "id": "37168529",
   "metadata": {},
   "outputs": [
    {
     "name": "stdout",
     "output_type": "stream",
     "text": [
      "[0 1 2] [0 1 2]\n"
     ]
    }
   ],
   "source": [
    "# Exercise 53\n",
    "array_53 = np.random.rand(3, 3)\n",
    "max_idx_row53 = np.argmax(array_53, axis=1)\n",
    "max_idx_col53 = np.argmax(array_53, axis=0)\n",
    "print(max_idx_row53, max_idx_col53)"
   ]
  },
  {
   "cell_type": "markdown",
   "id": "fd672293",
   "metadata": {},
   "source": [
    "\n",
    "---\n",
    "\n",
    "### Exercise 54:\n",
    "Compute the inverse of a 2x2 NumPy matrix.\n"
   ]
  },
  {
   "cell_type": "code",
   "execution_count": 145,
   "id": "d9eebfee",
   "metadata": {},
   "outputs": [
    {
     "data": {
      "text/plain": [
       "array([[-0.375 ,  0.25  ],\n",
       "       [ 0.3125, -0.125 ]])"
      ]
     },
     "execution_count": 145,
     "metadata": {},
     "output_type": "execute_result"
    }
   ],
   "source": [
    "# Exercise 54\n",
    "matrx_54 = np.array([[4, 8], [10, 12]])\n",
    "inverse_54 = np.linalg.inv(matrx_54)\n",
    "inverse_54"
   ]
  },
  {
   "cell_type": "markdown",
   "id": "d635d87b",
   "metadata": {},
   "source": [
    "\n",
    "---\n",
    "\n",
    "### Exercise 55:\n",
    "Create a NumPy array of 10 random values and standardize it (mean 0, variance 1).\n"
   ]
  },
  {
   "cell_type": "code",
   "execution_count": 143,
   "id": "dc8ffa7d",
   "metadata": {},
   "outputs": [
    {
     "data": {
      "text/plain": [
       "array([-1.27765206, -0.86321401,  0.51157337,  1.15009925, -0.25216706,\n",
       "       -0.8571852 , -0.52356926,  1.17301349, -0.78516742,  1.72426889])"
      ]
     },
     "execution_count": 143,
     "metadata": {},
     "output_type": "execute_result"
    }
   ],
   "source": [
    "# Exercise 55\n",
    "array_55 = np.random.rand(10)\n",
    "standardize_55 = (array_55 - np.mean(array_55)) / np.std(array_55)\n",
    "standardize_55"
   ]
  },
  {
   "cell_type": "markdown",
   "id": "6db1e281",
   "metadata": {},
   "source": [
    "\n",
    "---\n",
    "\n",
    "### Exercise 56:\n",
    "Perform element-wise addition and subtraction on two NumPy arrays.\n"
   ]
  },
  {
   "cell_type": "code",
   "execution_count": 139,
   "id": "e8d4d852",
   "metadata": {},
   "outputs": [
    {
     "name": "stdout",
     "output_type": "stream",
     "text": [
      "[14 18 22] [-6 -6 -6]\n"
     ]
    }
   ],
   "source": [
    "# Exercise 56\n",
    "a_56 = np.array([4, 6, 8])\n",
    "b_56 = np.array([10, 12, 14])\n",
    "add56 = a_56 + b_56\n",
    "sub56 = a_56 - b_56\n",
    "print(add56, sub56)"
   ]
  },
  {
   "cell_type": "markdown",
   "id": "843ba956",
   "metadata": {},
   "source": [
    "\n",
    "---\n",
    "\n",
    "### Exercise 57:\n",
    "Create a NumPy array of random values and find the maximum element's index.\n"
   ]
  },
  {
   "cell_type": "code",
   "execution_count": 133,
   "id": "e4cbc318",
   "metadata": {},
   "outputs": [
    {
     "data": {
      "text/plain": [
       "11"
      ]
     },
     "execution_count": 133,
     "metadata": {},
     "output_type": "execute_result"
    }
   ],
   "source": [
    "# Exercise 57\n",
    "array_57 = np.random.rand(12)\n",
    "max_index57 = np.argmax(array_57)\n",
    "max_index57"
   ]
  },
  {
   "cell_type": "markdown",
   "id": "e8356250",
   "metadata": {},
   "source": [
    "\n",
    "---\n",
    "\n",
    "### Exercise 58:\n",
    "Create a 3x3 NumPy array and rotate it by 90 degrees.\n"
   ]
  },
  {
   "cell_type": "code",
   "execution_count": 131,
   "id": "f80c6616",
   "metadata": {},
   "outputs": [
    {
     "data": {
      "text/plain": [
       "array([[2, 5, 8],\n",
       "       [1, 4, 7],\n",
       "       [0, 3, 6]])"
      ]
     },
     "execution_count": 131,
     "metadata": {},
     "output_type": "execute_result"
    }
   ],
   "source": [
    "# Exercise 58\n",
    "array_58 = np.arange(9).reshape(3, 3)\n",
    "rotate_58 = np.rot90(array_58)\n",
    "rotate_58"
   ]
  },
  {
   "cell_type": "markdown",
   "id": "5bdbf96d",
   "metadata": {},
   "source": [
    "\n",
    "---\n",
    "\n",
    "### Exercise 59:\n",
    "Compute the Frobenius norm of a matrix.\n"
   ]
  },
  {
   "cell_type": "code",
   "execution_count": 113,
   "id": "bb81b41a",
   "metadata": {},
   "outputs": [
    {
     "data": {
      "text/plain": [
       "9.848857801796104"
      ]
     },
     "execution_count": 113,
     "metadata": {},
     "output_type": "execute_result"
    }
   ],
   "source": [
    "# Exercise 59\n",
    "matrx_59 = np.array([[1, 4], [8, 4]])\n",
    "frobenius_59 = np.linalg.norm(matrx_59)\n",
    "frobenius_59"
   ]
  },
  {
   "cell_type": "markdown",
   "id": "9388b0db",
   "metadata": {},
   "source": [
    "\n",
    "---\n",
    "\n",
    "### Exercise 60:\n",
    "Create a 3D NumPy array and slice out a subarray.\n"
   ]
  },
  {
   "cell_type": "code",
   "execution_count": 111,
   "id": "f051d3a2",
   "metadata": {},
   "outputs": [
    {
     "data": {
      "text/plain": [
       "array([[[10, 11],\n",
       "        [13, 14],\n",
       "        [16, 17]],\n",
       "\n",
       "       [[19, 20],\n",
       "        [22, 23],\n",
       "        [25, 26]]])"
      ]
     },
     "execution_count": 111,
     "metadata": {},
     "output_type": "execute_result"
    }
   ],
   "source": [
    "# Exercise 60\n",
    "array_60 = np.arange(27).reshape(3, 3, 3)\n",
    "sub_array60 = array_60[1:, :, 1:]\n",
    "sub_array60"
   ]
  },
  {
   "cell_type": "markdown",
   "id": "9cb79001",
   "metadata": {},
   "source": [
    "\n",
    "---"
   ]
  }
 ],
 "metadata": {
  "kernelspec": {
   "display_name": "Python [conda env:base] *",
   "language": "python",
   "name": "conda-base-py"
  },
  "language_info": {
   "codemirror_mode": {
    "name": "ipython",
    "version": 3
   },
   "file_extension": ".py",
   "mimetype": "text/x-python",
   "name": "python",
   "nbconvert_exporter": "python",
   "pygments_lexer": "ipython3",
   "version": "3.12.7"
  }
 },
 "nbformat": 4,
 "nbformat_minor": 5
}
