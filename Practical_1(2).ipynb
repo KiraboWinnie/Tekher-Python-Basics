{
 "cells": [
  {
   "cell_type": "markdown",
   "id": "426486dd",
   "metadata": {},
   "source": [
    "# Practical_1: Variables and Assignments"
   ]
  },
  {
   "cell_type": "markdown",
   "id": "89a350dd-7c00-4392-a659-22f9d1aa8bc8",
   "metadata": {},
   "source": [
    "----\n",
    "\n",
    "### Exercise 1:\n",
    "Declare a variable `x` and assign it the value `10`.\n",
    "\n",
    "```python\n",
    "# Exercise 1\n",
    "```\n",
    "\n",
    "---\n",
    "\n",
    "### Exercise 2:\n",
    "Assign the value `True` to a variable called `is_valid`.\n",
    "\n",
    "```python\n",
    "# Exercise 2\n",
    "```\n",
    "\n",
    "---\n",
    "\n",
    "### Exercise 3:\n",
    "Create a string variable `name` with the value \"Python Programming\".\n",
    "\n",
    "```python\n",
    "# Exercise 3\n",
    "```\n",
    "\n",
    "---\n",
    "\n",
    "### Exercise 4:\n",
    "Assign the result of `5 + 3` to a variable `sum_result`.\n",
    "\n",
    "```python\n",
    "# Exercise 4\n",
    "```\n",
    "\n",
    "---\n",
    "\n",
    "### Exercise 5:\n",
    "Assign multiple variables in one line: `a = 5`, `b = 10`, `c = 15`.\n",
    "\n",
    "```python\n",
    "# Exercise 5\n",
    "```\n",
    "\n",
    "---\n",
    "\n",
    "### Exercise 6:\n",
    "Assign the value of one variable `x` to another variable `y`.\n",
    "\n",
    "```python\n",
    "# Exercise 6\n",
    "```\n",
    "\n",
    "---\n",
    "\n",
    "### Exercise 7:\n",
    "Assign a floating-point number `9.8` to a variable `gravity`.\n",
    "\n",
    "```python\n",
    "# Exercise 7\n",
    "```\n",
    "\n",
    "---\n",
    "\n",
    "### Exercise 8:\n",
    "Create a variable `country` and assign it the string value of your favorite country.\n",
    "\n",
    "```python\n",
    "# Exercise 8\n",
    "```\n",
    "\n",
    "---\n",
    "\n",
    "### Exercise 9:\n",
    "Change the value of variable `age` from `25` to `26` in two separate steps.\n",
    "\n",
    "```python\n",
    "# Exercise 9\n",
    "```\n",
    "\n",
    "---\n",
    "\n",
    "### Exercise 10:\n",
    "Use one variable to store the result of subtracting two numbers `20 - 7`.\n",
    "\n",
    "```python\n",
    "# Exercise 10\n",
    "```\n",
    "\n",
    "---\n",
    "\n",
    "### Exercise 11:\n",
    "Assign an integer value and a floating-point value to two different variables.\n",
    "\n",
    "```python\n",
    "# Exercise 11\n",
    "```\n",
    "\n",
    "---\n",
    "\n",
    "### Exercise 12:\n",
    "Assign a boolean value `False` to a variable `is_completed`.\n",
    "\n",
    "```python\n",
    "# Exercise 12\n",
    "```\n",
    "\n",
    "---\n",
    "\n",
    "### Exercise 13:\n",
    "Swap the values of two variables `x` and `y`.\n",
    "\n",
    "```python\n",
    "# Exercise 13\n",
    "```\n",
    "\n",
    "---\n",
    "\n",
    "### Exercise 14:\n",
    "Assign a complex number `3 + 4j` to a variable `complex_num`.\n",
    "\n",
    "```python\n",
    "# Exercise 14\n",
    "```\n",
    "\n",
    "---\n",
    "\n",
    "### Exercise 15:\n",
    "Reassign a variable from an integer to a string.\n",
    "\n",
    "```python\n",
    "# Exercise 15\n",
    "```\n",
    "\n",
    "---\n",
    "\n",
    "### Exercise 16:\n",
    "Create two variables `first_name` and `last_name`, and assign them your first and last names.\n",
    "\n",
    "```python\n",
    "# Exercise 16\n",
    "```\n",
    "\n",
    "---\n",
    "\n",
    "### Exercise 17:\n",
    "Create a variable `temperature` and assign it the value of `35.5`.\n",
    "\n",
    "```python\n",
    "# Exercise 17\n",
    "```\n",
    "\n",
    "---\n",
    "\n",
    "### Exercise 18:\n",
    "Assign the result of the multiplication of two numbers `8 * 6` to a variable `product`.\n",
    "\n",
    "```python\n",
    "# Exercise 18\n",
    "```\n",
    "\n",
    "---\n",
    "\n",
    "### Exercise 19:\n",
    "Assign a sentence of your choice to a variable `sentence`.\n",
    "\n",
    "```python\n",
    "# Exercise 19\n",
    "```\n",
    "\n",
    "---\n",
    "\n",
    "### Exercise 20:\n",
    "Use an assignment to convert a string `'50'` into an integer variable `int_value`.\n",
    "\n",
    "```python\n",
    "# Exercise 20\n",
    "```\n",
    "\n",
    "---\n",
    "\n",
    "### Exercise 21:\n",
    "Assign the result of dividing `144` by `12` to a variable `quotient`.\n",
    "\n",
    "```python\n",
    "# Exercise 21\n",
    "```\n",
    "\n",
    "---\n",
    "\n",
    "### Exercise 22:\n",
    "Assign the remainder of `47 divided by 5` to a variable `remainder`.\n",
    "\n",
    "```python\n",
    "# Exercise 22\n",
    "```\n",
    "\n",
    "---\n",
    "\n",
    "### Exercise 23:\n",
    "Create a variable `is_student` and assign it the value `True`.\n",
    "\n",
    "```python\n",
    "# Exercise 23\n",
    "```\n",
    "\n",
    "---\n",
    "\n",
    "### Exercise 24:\n",
    "Use a variable to store the result of a modulo operation: `45 % 4`.\n",
    "\n",
    "```python\n",
    "# Exercise 24\n",
    "```\n",
    "\n",
    "---\n",
    "\n",
    "### Exercise 25:\n",
    "Create a variable `pi` and assign it the value `3.14159`.\n",
    "\n",
    "```python\n",
    "# Exercise 25\n",
    "```\n",
    "\n",
    "---\n",
    "\n",
    "### Exercise 26:\n",
    "Create two variables `length` and `width`, assign them values, and calculate the area of a rectangle.\n",
    "\n",
    "```python\n",
    "# Exercise 26\n",
    "```\n",
    "\n",
    "---\n",
    "\n",
    "### Exercise 27:\n",
    "Assign a negative number to a variable `negative_value`.\n",
    "\n",
    "```python\n",
    "# Exercise 27\n",
    "```\n",
    "\n",
    "---\n",
    "\n",
    "### Exercise 28:\n",
    "Assign a string containing a special character (e.g., \"Hello, World!\") to a variable `greeting`.\n",
    "\n",
    "```python\n",
    "# Exercise 28\n",
    "```\n",
    "\n",
    "---\n",
    "\n",
    "### Exercise 29:\n",
    "Create a variable `population` and assign it a large integer value (in billions).\n",
    "\n",
    "```python\n",
    "# Exercise 29\n",
    "```\n",
    "\n",
    "---\n",
    "\n",
    "### Exercise 30:\n",
    "Use a variable to store the result of raising `2` to the power of `8`.\n",
    "\n",
    "```python\n",
    "# Exercise 30\n",
    "```\n",
    "\n",
    "---\n",
    "\n",
    "### Exercise 31:\n",
    "Assign a list of your favorite fruits to a variable `fruits`.\n",
    "\n",
    "```python\n",
    "# Exercise 31\n",
    "```\n",
    "\n",
    "---\n",
    "\n",
    "### Exercise 32:\n",
    "Assign a tuple of three numbers to a variable `coordinates`.\n",
    "\n",
    "```python\n",
    "# Exercise 32\n",
    "```\n",
    "\n",
    "---\n",
    "\n",
    "### Exercise 33:\n",
    "Assign a dictionary with keys `name` and `age` to a variable `person`.\n",
    "\n",
    "```python\n",
    "# Exercise 33\n",
    "```\n",
    "\n",
    "---\n",
    "\n",
    "### Exercise 34:\n",
    "Use variables to store the sum of two floating-point numbers.\n",
    "\n",
    "```python\n",
    "# Exercise 34\n",
    "```\n",
    "\n",
    "---\n",
    "\n",
    "### Exercise 35:\n",
    "Create a variable `is_sunny` and assign it the result of a comparison `10 > 5`.\n",
    "\n",
    "```python\n",
    "# Exercise 35\n",
    "```\n",
    "\n",
    "---\n",
    "\n",
    "### Exercise 36:\n",
    "Assign a string and an integer to two different variables, then print both on one line.\n",
    "\n",
    "```python\n",
    "# Exercise 36\n",
    "```\n",
    "\n",
    "---\n",
    "\n",
    "### Exercise 37:\n",
    "Reassign a variable that originally held a number to a boolean value.\n",
    "\n",
    "```python\n",
    "# Exercise 37\n",
    "```\n",
    "\n",
    "---\n",
    "\n",
    "### Exercise 38:\n",
    "Create a variable `is_weekend` and assign it the result of `False`.\n",
    "\n",
    "```python\n",
    "# Exercise 38\n",
    "```\n",
    "\n",
    "---\n",
    "\n",
    "### Exercise 39:\n",
    "Assign a multi-line string to a variable `description`.\n",
    "\n",
    "```python\n",
    "# Exercise 39\n",
    "```\n",
    "\n",
    "---\n",
    "\n",
    "### Exercise 40:\n",
    "Use variables to store the result of the absolute value of `-25`.\n",
    "\n",
    "```python\n",
    "# Exercise 40\n",
    "```\n",
    "\n",
    "---\n",
    "\n",
    "### Exercise 41:\n",
    "Assign the result of a floor division `100 // 6` to a variable `floor_div_result`.\n",
    "\n",
    "```python\n",
    "# Exercise 41\n",
    "```\n",
    "\n",
    "---\n",
    "\n",
    "### Exercise 42:\n",
    "Assign the result of adding a floating-point number to an integer to a variable `mixed_sum`.\n",
    "\n",
    "```python\n",
    "# Exercise 42\n",
    "```\n",
    "\n",
    "---\n",
    "\n",
    "### Exercise 43:\n",
    "Use variables to store a combination of string concatenation.\n",
    "\n",
    "```python\n",
    "# Exercise 43\n",
    "```\n",
    "\n",
    "---\n",
    "\n",
    "### Exercise 44:\n",
    "Assign an empty list to a variable `empty_list`.\n",
    "\n",
    "```python\n",
    "# Exercise 44\n",
    "```\n",
    "\n",
    "---\n",
    "\n",
    "### Exercise 45:\n",
    "Assign a boolean value based on the comparison of two variables `a = 10` and `b = 15`.\n",
    "\n",
    "```python\n",
    "# Exercise 45\n",
    "```\n",
    "\n",
    "---\n",
    "\n",
    "### Exercise 46:\n",
    "Assign a long sentence to a variable and count its characters using `len()`.\n",
    "\n",
    "```python\n",
    "# Exercise 46\n",
    "```\n",
    "\n",
    "---\n",
    "\n",
    "### Exercise 47:\n",
    "Assign a fractional result `7 / 3` to a variable `division_result`.\n",
    "\n",
    "```python\n",
    "# Exercise 47\n",
    "```\n",
    "\n",
    "---\n",
    "\n",
    "### Exercise 48:\n",
    "Create a variable `speed` and assign it the value of 100 kilometers per hour.\n",
    "\n",
    "```python\n",
    "# Exercise 48\n",
    "```\n",
    "\n",
    "---\n",
    "\n",
    "### Exercise 49:\n",
    "Assign a multi-variable equation like `y = 3x + 5` where `x = 4` to a variable `y`.\n",
    "\n",
    "```python\n",
    "# Exercise 49\n",
    "```\n",
    "\n",
    "---\n",
    "\n",
    "### Exercise 50:\n",
    "Use variables to calculate and store the average of three numbers.\n",
    "\n",
    "```python\n",
    "# Exercise 50\n",
    "```\n",
    "\n",
    "****"
   ]
  },
  {
   "cell_type": "markdown",
   "id": "c7062a76-9124-44d9-a8db-39738dbf4e05",
   "metadata": {},
   "source": [
    "# EXERCISE 01"
   ]
  },
  {
   "cell_type": "code",
   "execution_count": null,
   "id": "94d1f902-5d15-4a52-8ba7-5352b0781b07",
   "metadata": {},
   "outputs": [],
   "source": [
    "X=10"
   ]
  },
  {
   "cell_type": "markdown",
   "id": "a3f5192d-9f84-4077-a290-3d5f18e9ede9",
   "metadata": {},
   "source": [
    "EXCERCISE 02"
   ]
  },
  {
   "cell_type": "code",
   "execution_count": null,
   "id": "c4bdd612-d00b-4024-84f7-41ba8d6c20d9",
   "metadata": {},
   "outputs": [],
   "source": [
    "is_valid=True"
   ]
  },
  {
   "cell_type": "markdown",
   "id": "d69bbb12-474a-48b9-af9e-519ea0a9b49a",
   "metadata": {},
   "source": [
    "EXERCISE 03"
   ]
  },
  {
   "cell_type": "code",
   "execution_count": null,
   "id": "37908ca5-8a6c-41de-b4c0-b9a01db4cd5f",
   "metadata": {},
   "outputs": [],
   "source": [
    "name= \"python Programming\""
   ]
  },
  {
   "cell_type": "markdown",
   "id": "f17d0d3d-e0da-4f4d-9fff-b0d2f1aff79c",
   "metadata": {},
   "source": [
    "EXCERCISE 04"
   ]
  },
  {
   "cell_type": "code",
   "execution_count": null,
   "id": "3b89754c-58c9-44ba-9893-9a4f05e2aacb",
   "metadata": {},
   "outputs": [],
   "source": [
    "sum_result=5+3"
   ]
  },
  {
   "cell_type": "markdown",
   "id": "91bab867-0357-4aa2-a1dc-2750ea2fe33e",
   "metadata": {},
   "source": [
    "EXECRCISE 05"
   ]
  },
  {
   "cell_type": "code",
   "execution_count": null,
   "id": "76ef7a92-f4c5-414b-8cb1-99e6b1c567b5",
   "metadata": {},
   "outputs": [],
   "source": [
    "a-5\n",
    "b=10\n",
    "c=15"
   ]
  },
  {
   "cell_type": "markdown",
   "id": "0cb75246-2d6c-4785-bdd5-712108d43499",
   "metadata": {},
   "source": [
    "EXCERCISE 06"
   ]
  },
  {
   "cell_type": "code",
   "execution_count": null,
   "id": "a7bb1465-3e4a-45f4-bbee-13a9a77c01b7",
   "metadata": {},
   "outputs": [],
   "source": [
    "x = 5\n",
    "y = x"
   ]
  },
  {
   "cell_type": "markdown",
   "id": "695cec79-eda0-4979-b211-bf42b91f8344",
   "metadata": {},
   "source": [
    "EXERCISE 07"
   ]
  },
  {
   "cell_type": "code",
   "execution_count": null,
   "id": "c7367fa2-a6d4-41e0-b16a-9a5b463641ea",
   "metadata": {},
   "outputs": [],
   "source": [
    "gravity = 9.8"
   ]
  },
  {
   "cell_type": "markdown",
   "id": "fcc32ea2-ef19-458e-be43-43e45463c9f4",
   "metadata": {},
   "source": [
    "EXERCISE 08"
   ]
  },
  {
   "cell_type": "code",
   "execution_count": null,
   "id": "fbe019d7-ebcf-43dc-862b-bb91259a6f49",
   "metadata": {},
   "outputs": [],
   "source": [
    "COUNTRY = 'Rwanda'"
   ]
  },
  {
   "cell_type": "markdown",
   "id": "d30c0df6-0991-484a-817b-bd49eeb813f8",
   "metadata": {},
   "source": [
    "EXERCISE 09"
   ]
  },
  {
   "cell_type": "code",
   "execution_count": null,
   "id": "7913121e-92d8-46dd-9a76-805a7fafcc45",
   "metadata": {},
   "outputs": [],
   "source": [
    "age = 25\n",
    "age = 26"
   ]
  },
  {
   "cell_type": "markdown",
   "id": "57fdd39d-4285-444b-ad67-000434e4a7af",
   "metadata": {},
   "source": [
    "EXERCISE 10"
   ]
  },
  {
   "cell_type": "code",
   "execution_count": null,
   "id": "bd12f907-0723-4b1c-81fd-b564bec16306",
   "metadata": {},
   "outputs": [],
   "source": [
    "difference = 20-7"
   ]
  },
  {
   "cell_type": "markdown",
   "id": "d50173c3-849d-4006-a858-0fd2c9bb9825",
   "metadata": {},
   "source": [
    "EXERCISE 11"
   ]
  },
  {
   "cell_type": "code",
   "execution_count": 8,
   "id": "b32432eb-63d7-4661-838c-c92bcb0cfbff",
   "metadata": {},
   "outputs": [],
   "source": [
    "value1 = 3\n",
    "value2 = 3.15"
   ]
  },
  {
   "cell_type": "markdown",
   "id": "21bd232c-f0c8-4ac4-9d68-c0528c75da99",
   "metadata": {},
   "source": [
    "EXERCISE 12"
   ]
  },
  {
   "cell_type": "code",
   "execution_count": 11,
   "id": "4447d383-ab28-4739-acd3-602d314dc44c",
   "metadata": {},
   "outputs": [],
   "source": [
    "is_completed = False"
   ]
  },
  {
   "cell_type": "markdown",
   "id": "1dd20ef2-d291-46c0-96f0-298e653589ca",
   "metadata": {},
   "source": [
    "EXERCISE 13"
   ]
  },
  {
   "cell_type": "code",
   "execution_count": 13,
   "id": "31ee9e63-37cd-41dc-b63e-a3c7d64871f0",
   "metadata": {},
   "outputs": [
    {
     "name": "stdout",
     "output_type": "stream",
     "text": [
      "6 5\n"
     ]
    }
   ],
   "source": [
    "x = 5\n",
    "y = 6\n",
    "x,y = y,x\n",
    "print (x,y)"
   ]
  },
  {
   "cell_type": "markdown",
   "id": "dda6812b-64a1-49a2-8534-acf7a87239b0",
   "metadata": {},
   "source": [
    "EXERCISE 14"
   ]
  },
  {
   "cell_type": "code",
   "execution_count": 17,
   "id": "03be18b4-d09a-4b71-b609-f3eafc75a365",
   "metadata": {},
   "outputs": [],
   "source": [
    "complex_num = 3 + 4j"
   ]
  },
  {
   "cell_type": "markdown",
   "id": "ca5635fc-eb3a-4c78-9957-0d5235b6def0",
   "metadata": {},
   "source": [
    "EXERCISE 15"
   ]
  },
  {
   "cell_type": "code",
   "execution_count": 21,
   "id": "ffae9457-c131-4168-a012-f7e8dc5bad37",
   "metadata": {},
   "outputs": [],
   "source": [
    "var = 4\n",
    "var = 'character'"
   ]
  },
  {
   "cell_type": "markdown",
   "id": "fd2ede05-b88d-45dc-85a5-3cb4ec5da76a",
   "metadata": {},
   "source": [
    "EXECRCISE 16"
   ]
  },
  {
   "cell_type": "code",
   "execution_count": 30,
   "id": "b31ae456-27dd-4263-b9db-e5cd754db213",
   "metadata": {},
   "outputs": [],
   "source": [
    "first_name = \"Winnie\"\n",
    "last_name = \"Kirabo\""
   ]
  },
  {
   "cell_type": "markdown",
   "id": "ec31768b-183e-43a9-8f5c-e5f8d0221b71",
   "metadata": {},
   "source": [
    "EXERCISE 17"
   ]
  },
  {
   "cell_type": "code",
   "execution_count": 35,
   "id": "ea29c374-0a55-4f0a-b977-3f68f6e9bb26",
   "metadata": {},
   "outputs": [],
   "source": [
    "temperature = 35.5"
   ]
  },
  {
   "cell_type": "markdown",
   "id": "e9e13213-03e4-4793-af26-22d777b8283c",
   "metadata": {},
   "source": [
    "EXERCISE 18"
   ]
  },
  {
   "cell_type": "code",
   "execution_count": 40,
   "id": "9c7ebbeb-1550-467d-8c97-bb12aa983dba",
   "metadata": {},
   "outputs": [],
   "source": [
    "product = 8 * 6"
   ]
  },
  {
   "cell_type": "markdown",
   "id": "4f2cb0eb-76e5-4dfd-b3de-fa935471b105",
   "metadata": {},
   "source": [
    "EXERCISE 19"
   ]
  },
  {
   "cell_type": "markdown",
   "id": "56df4244-8d50-4ac1-ae47-07c53546ca63",
   "metadata": {},
   "source": [
    "sentence = \"I am a queen\""
   ]
  },
  {
   "cell_type": "markdown",
   "id": "528cc45c-0bfe-4978-ab42-bfa357efc58e",
   "metadata": {},
   "source": [
    "EXERCISE 20"
   ]
  },
  {
   "cell_type": "code",
   "execution_count": 49,
   "id": "5b0a5d82-9cf8-4481-b5f8-1960b030d2c0",
   "metadata": {},
   "outputs": [],
   "source": [
    "int_value = int('50')"
   ]
  },
  {
   "cell_type": "markdown",
   "id": "e9b1adf7-3c17-41a4-b93a-b3ae8959734b",
   "metadata": {},
   "source": [
    "EXERCISE 21"
   ]
  },
  {
   "cell_type": "code",
   "execution_count": 63,
   "id": "8f6d4791-822f-49b2-ac33-9096a76b1619",
   "metadata": {},
   "outputs": [],
   "source": [
    "quotient = 144 / 12"
   ]
  },
  {
   "cell_type": "markdown",
   "id": "325ac9bd-7ecf-428b-a6be-07ca2b363c00",
   "metadata": {},
   "source": [
    "EXERCISE 22"
   ]
  },
  {
   "cell_type": "code",
   "execution_count": 55,
   "id": "f5b45ae1-bd7e-4239-b036-c4cf436541ea",
   "metadata": {},
   "outputs": [],
   "source": [
    "remainder = 47 % 5"
   ]
  },
  {
   "cell_type": "markdown",
   "id": "42278875-2fee-4d6f-8260-45d19240d186",
   "metadata": {},
   "source": [
    "EXERCISE 23"
   ]
  },
  {
   "cell_type": "code",
   "execution_count": 58,
   "id": "6c9f8d93-5a7f-4425-a56b-8df53eb11ae2",
   "metadata": {},
   "outputs": [],
   "source": [
    "is_student = True"
   ]
  },
  {
   "cell_type": "markdown",
   "id": "158773ab-7855-4a41-a634-1e7dfd856fa5",
   "metadata": {},
   "source": [
    "EXERCISE 24"
   ]
  },
  {
   "cell_type": "code",
   "execution_count": 66,
   "id": "2e62102c-e74a-4519-bea6-7502d3993591",
   "metadata": {},
   "outputs": [],
   "source": [
    "modulo = 45 % 4"
   ]
  },
  {
   "cell_type": "markdown",
   "id": "00bea6fb-ed41-4582-856b-e610b81f4475",
   "metadata": {},
   "source": [
    "EXERCISE 25"
   ]
  },
  {
   "cell_type": "code",
   "execution_count": 69,
   "id": "b5db2b90-b819-4df7-bc50-0df3b022298c",
   "metadata": {},
   "outputs": [],
   "source": [
    "pi = 3.14159"
   ]
  },
  {
   "cell_type": "markdown",
   "id": "dd6ce54f-c617-4f6a-be4f-c8faf37e128d",
   "metadata": {},
   "source": [
    "EXERCISE 26"
   ]
  },
  {
   "cell_type": "code",
   "execution_count": 72,
   "id": "857ba2e0-3c80-4000-b4d7-267a359156d3",
   "metadata": {},
   "outputs": [],
   "source": [
    "length = 5\n",
    "width = 6\n",
    "rectangel_area = length * width"
   ]
  },
  {
   "cell_type": "markdown",
   "id": "5113067a-e52b-41b9-bff3-333b8b0b2e50",
   "metadata": {},
   "source": [
    "EXERCISE 27"
   ]
  },
  {
   "cell_type": "code",
   "execution_count": null,
   "id": "80c750cf-ef81-4221-b7a7-de753db4ac7d",
   "metadata": {},
   "outputs": [],
   "source": [
    "negative_value = 23"
   ]
  },
  {
   "cell_type": "markdown",
   "id": "57c9bb52-d07c-494c-89a8-cc6ed8ad5a4b",
   "metadata": {},
   "source": [
    "EXERCISE 28"
   ]
  },
  {
   "cell_type": "code",
   "execution_count": 79,
   "id": "89e6d7c9-e5cd-4f95-a3d7-7314657b43d7",
   "metadata": {},
   "outputs": [],
   "source": [
    "greeting = '\"Hello, World!\"'"
   ]
  },
  {
   "cell_type": "markdown",
   "id": "b75f2a79-ade0-4c55-bfaa-a22054a2e845",
   "metadata": {},
   "source": [
    "EXERCISE 29"
   ]
  },
  {
   "cell_type": "code",
   "execution_count": 85,
   "id": "60b09347-b22a-4435-bfea-52f7e6fe2442",
   "metadata": {},
   "outputs": [],
   "source": [
    "population = 500000000"
   ]
  },
  {
   "cell_type": "markdown",
   "id": "974b1ce4-cde0-4e98-a1c3-28df7b1b8fab",
   "metadata": {},
   "source": [
    "EXERCISE 30"
   ]
  },
  {
   "cell_type": "code",
   "execution_count": 95,
   "id": "7fa4a4f4-e4a7-4ad8-a8ca-6cdb24819c2a",
   "metadata": {},
   "outputs": [],
   "source": [
    "power = 2**8"
   ]
  },
  {
   "cell_type": "markdown",
   "id": "d3972f4b-2420-4cd1-8e82-a2dc05528c0b",
   "metadata": {},
   "source": [
    "EXERCISE 31"
   ]
  },
  {
   "cell_type": "code",
   "execution_count": 99,
   "id": "582c6e31-8c7a-4f89-82d9-5864d5e90f6c",
   "metadata": {},
   "outputs": [],
   "source": [
    "fruits = [\"banana\",\"apple\", \"orange\"]"
   ]
  },
  {
   "cell_type": "markdown",
   "id": "96d5f4f1-43ad-4b35-861a-3f3aabaf357e",
   "metadata": {},
   "source": [
    "EXERCISE 32"
   ]
  },
  {
   "cell_type": "code",
   "execution_count": 102,
   "id": "5ff498ae-cba5-44e1-a89e-ab5cafdc59f4",
   "metadata": {},
   "outputs": [],
   "source": [
    "coordinates = (10,20,30)"
   ]
  },
  {
   "cell_type": "markdown",
   "id": "7e6e5f34-823a-40d6-9c6e-67d862f7456f",
   "metadata": {},
   "source": [
    "EXERCISE 33"
   ]
  },
  {
   "cell_type": "code",
   "execution_count": 109,
   "id": "1e5422be-baec-464a-a86a-19321a36c7ae",
   "metadata": {},
   "outputs": [],
   "source": [
    "person = {\"name\":\"Winnie\", \"age\":25}"
   ]
  },
  {
   "cell_type": "markdown",
   "id": "609f29f5-6161-4c5a-82d2-e52b5b446880",
   "metadata": {},
   "source": [
    "EXERCISE 34"
   ]
  },
  {
   "cell_type": "code",
   "execution_count": 112,
   "id": "d53519e2-1217-4869-aaf8-94063cf75ef7",
   "metadata": {},
   "outputs": [],
   "source": [
    "float1 = 3.45\n",
    "float2 = 4.35\n",
    "sum = float1 + float2"
   ]
  },
  {
   "cell_type": "markdown",
   "id": "63b88dfc-0a1c-4e00-bcb4-40e00000b034",
   "metadata": {},
   "source": [
    "EXERCISE 35"
   ]
  },
  {
   "cell_type": "code",
   "execution_count": 116,
   "id": "d1bdbcbc-30fc-477f-91d6-f1ae563beed3",
   "metadata": {},
   "outputs": [],
   "source": [
    "is_sunny = 10 > 5"
   ]
  },
  {
   "cell_type": "markdown",
   "id": "a573766c-f918-4cf1-8d1d-6c3d27673459",
   "metadata": {},
   "source": [
    "EXERCISE 36"
   ]
  },
  {
   "cell_type": "code",
   "execution_count": 123,
   "id": "bf65a579-46f6-472e-b725-ff9597625564",
   "metadata": {},
   "outputs": [
    {
     "name": "stdout",
     "output_type": "stream",
     "text": [
      "Winnie 678\n"
     ]
    }
   ],
   "source": [
    "name = \"Winnie\"\n",
    "Id_nbr =  678\n",
    "print (name,Id_nbr)"
   ]
  },
  {
   "cell_type": "markdown",
   "id": "1cb5c1a9-e537-4b05-a82d-b8aeef53f056",
   "metadata": {},
   "source": [
    "EXERCISE 37"
   ]
  },
  {
   "cell_type": "code",
   "execution_count": 128,
   "id": "7635deb8-cb0f-4e91-954d-b7375cfd9f6a",
   "metadata": {},
   "outputs": [],
   "source": [
    "nbr1 = 23\n",
    "nbr2 = True"
   ]
  },
  {
   "cell_type": "markdown",
   "id": "8ed3a3f4-ac68-4802-9681-4940cb7b919e",
   "metadata": {},
   "source": [
    "EXERCISE 38"
   ]
  },
  {
   "cell_type": "code",
   "execution_count": 131,
   "id": "4017c7af-c5ab-4fb5-b76e-159a7152c27a",
   "metadata": {},
   "outputs": [],
   "source": [
    "is_weekend = False"
   ]
  },
  {
   "cell_type": "markdown",
   "id": "7598d19c-b070-4b54-9403-d50fa1f74c0f",
   "metadata": {},
   "source": [
    "EXERCISE 39"
   ]
  },
  {
   "cell_type": "code",
   "execution_count": null,
   "id": "14edbac2-122e-4e1f-a0a6-d1b1e76cbd87",
   "metadata": {},
   "outputs": [],
   "source": [
    "description = '''"
   ]
  }
 ],
 "metadata": {
  "kernelspec": {
   "display_name": "Python [conda env:base] *",
   "language": "python",
   "name": "conda-base-py"
  },
  "language_info": {
   "codemirror_mode": {
    "name": "ipython",
    "version": 3
   },
   "file_extension": ".py",
   "mimetype": "text/x-python",
   "name": "python",
   "nbconvert_exporter": "python",
   "pygments_lexer": "ipython3",
   "version": "3.12.7"
  }
 },
 "nbformat": 4,
 "nbformat_minor": 5
}
