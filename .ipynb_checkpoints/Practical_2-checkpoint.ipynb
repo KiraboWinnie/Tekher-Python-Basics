{
 "cells": [
  {
   "cell_type": "markdown",
   "id": "d68c1dee",
   "metadata": {},
   "source": [
    "# Practical_2: String and files"
   ]
  },
  {
   "cell_type": "markdown",
   "id": "bea983a3",
   "metadata": {},
   "source": [
    "---\n",
    "\n",
    "### Exercise 1:\n",
    "Create a string variable `text` and assign it the value `\"Python is amazing!\"`.\n",
    "\n",
    "```python\n",
    "# Exercise 1\n",
    "```\n",
    "\n",
    "---\n",
    "\n",
    "### Exercise 2:\n",
    "Find the length of the string `\"Hello, World!\"` and store it in a variable `length`.\n",
    "\n",
    "```python\n",
    "# Exercise 2\n",
    "```\n",
    "\n",
    "---\n",
    "\n",
    "### Exercise 3:\n",
    "Convert the string `\"python programming\"` to uppercase and store it in a variable `upper_text`.\n",
    "\n",
    "```python\n",
    "# Exercise 3\n",
    "```\n",
    "\n",
    "---\n",
    "\n",
    "### Exercise 4:\n",
    "Extract the first 5 characters from the string `\"Artificial Intelligence\"`.\n",
    "\n",
    "```python\n",
    "# Exercise 4\n",
    "```\n",
    "\n",
    "---\n",
    "\n",
    "### Exercise 5:\n",
    "Concatenate the strings `\"Hello\"` and `\"World\"` with a space in between.\n",
    "\n",
    "```python\n",
    "# Exercise 5\n",
    "```\n",
    "\n",
    "---\n",
    "\n",
    "### Exercise 6:\n",
    "Replace the word `\"dog\"` with `\"cat\"` in the string `\"The quick brown dog jumps over the lazy dog.\"`.\n",
    "\n",
    "```python\n",
    "# Exercise 6\n",
    "```\n",
    "\n",
    "---\n",
    "\n",
    "### Exercise 7:\n",
    "Split the string `\"apple,banana,orange\"` by commas and store the result in a list `fruits_list`.\n",
    "\n",
    "```python\n",
    "# Exercise 7\n",
    "```\n",
    "\n",
    "---\n",
    "\n",
    "### Exercise 8:\n",
    "Use string formatting to create the sentence `\"My name is Alice and I am 25 years old.\"`, where the name and age are variables.\n",
    "\n",
    "```python\n",
    "# Exercise 8\n",
    "```\n",
    "\n",
    "---\n",
    "\n",
    "### Exercise 9:\n",
    "Check if the string `\"python\"` is present in the sentence `\"I love python programming\"`.\n",
    "\n",
    "```python\n",
    "# Exercise 9\n",
    "```\n",
    "\n",
    "---\n",
    "\n",
    "### Exercise 10:\n",
    "Count the number of occurrences of the letter `\"e\"` in the string `\"Elephant is an elegant animal\"`.\n",
    "\n",
    "```python\n",
    "# Exercise 10\n",
    "```\n",
    "\n",
    "---\n",
    "\n",
    "### Exercise 11:\n",
    "Remove any leading and trailing spaces from the string `\"   Data Science   \"`.\n",
    "\n",
    "```python\n",
    "# Exercise 11\n",
    "```\n",
    "\n",
    "---\n",
    "\n",
    "### Exercise 12:\n",
    "Convert the string `\"100\"` into an integer and store it in a variable `int_value`.\n",
    "\n",
    "```python\n",
    "# Exercise 12\n",
    "```\n",
    "\n",
    "---\n",
    "\n",
    "### Exercise 13:\n",
    "Extract the substring `\"pro\"` from the string `\"programming\"`.\n",
    "\n",
    "```python\n",
    "# Exercise 13\n",
    "```\n",
    "\n",
    "---\n",
    "\n",
    "### Exercise 14:\n",
    "Check if the string `\"data\"` starts with `\"da\"` and ends with `\"ta\"`.\n",
    "\n",
    "```python\n",
    "# Exercise 14\n",
    "```\n",
    "\n",
    "---\n",
    "\n",
    "### Exercise 15:\n",
    "Reverse the string `\"machine learning\"` and store the result in `reversed_text`.\n",
    "\n",
    "```python\n",
    "# Exercise 15\n",
    "```\n",
    "\n",
    "---\n",
    "\n",
    "### Exercise 16:\n",
    "Convert the first letter of each word in the string `\"machine learning is fun\"` to uppercase.\n",
    "\n",
    "```python\n",
    "# Exercise 16\n",
    "```\n",
    "\n",
    "---\n",
    "\n",
    "### Exercise 17:\n",
    "Create a multiline string representing a poem and store it in a variable `poem`.\n",
    "\n",
    "```python\n",
    "# Exercise 17\n",
    "```\n",
    "\n",
    "---\n",
    "\n",
    "### Exercise 18:\n",
    "Write a string to a file named `\"output.txt\"`.\n",
    "\n",
    "```python\n",
    "# Exercise 18\n",
    "```\n",
    "\n",
    "---\n",
    "\n",
    "### Exercise 19:\n",
    "Read the contents of a file named `\"data.txt\"` and print it line by line.\n",
    "\n",
    "```python\n",
    "# Exercise 19\n",
    "```\n",
    "\n",
    "---\n",
    "\n",
    "### Exercise 20:\n",
    "Check if a file `\"example.txt\"` exists before opening it.\n",
    "\n",
    "```python\n",
    "# Exercise 20\n",
    "```\n",
    "\n",
    "---\n",
    "\n",
    "### Exercise 21:\n",
    "Append a new line `\"This is a new line\"` to an existing file `\"notes.txt\"`.\n",
    "\n",
    "```python\n",
    "# Exercise 21\n",
    "```\n",
    "\n",
    "---\n",
    "\n",
    "### Exercise 22:\n",
    "Read the contents of a file `\"log.txt\"` and store each line in a list `log_lines`.\n",
    "\n",
    "```python\n",
    "# Exercise 22\n",
    "```\n",
    "\n",
    "---\n",
    "\n",
    "### Exercise 23:\n",
    "Create a new file `\"report.txt\"` and write the string `\"Data analysis report\"` to it.\n",
    "\n",
    "```python\n",
    "# Exercise 23\n",
    "```\n",
    "\n",
    "---\n",
    "\n",
    "### Exercise 24:\n",
    "Replace the word `\"error\"` with `\"issue\"` in a file `\"log.txt\"`.\n",
    "\n",
    "```python\n",
    "# Exercise 24\n",
    "```\n",
    "\n",
    "---\n",
    "\n",
    "### Exercise 25:\n",
    "Count the number of words in a text file `\"document.txt\"`.\n",
    "\n",
    "```python\n",
    "# Exercise 25\n",
    "```\n",
    "\n",
    "---\n",
    "\n",
    "### Exercise 26:\n",
    "Write a Python script that reads a file `\"essay.txt\"` and prints the total number of lines, words, and characters.\n",
    "\n",
    "```python\n",
    "# Exercise 26\n",
    "```\n",
    "\n",
    "---\n",
    "\n",
    "### Exercise 27:\n",
    "Copy the contents of one file `\"source.txt\"` to another file `\"destination.txt\"`.\n",
    "\n",
    "```python\n",
    "# Exercise 27\n",
    "```\n",
    "\n",
    "---\n",
    "\n",
    "### Exercise 28:\n",
    "Write a Python function that takes a filename as input and returns the number of lines in the file.\n",
    "\n",
    "```python\n",
    "# Exercise 28\n",
    "```\n",
    "\n",
    "---\n",
    "\n",
    "### Exercise 29:\n",
    "Extract all the words from a text file `\"article.txt\"` that contain more than 5 characters.\n",
    "\n",
    "```python\n",
    "# Exercise 29\n",
    "```\n",
    "\n",
    "---\n",
    "\n",
    "### Exercise 30:\n",
    "Convert the contents of a file `\"notes.txt\"` to uppercase and save the result in another file `\"uppercase_notes.txt\"`.\n",
    "\n",
    "```python\n",
    "# Exercise 30\n",
    "```\n",
    "\n",
    "---\n",
    "\n",
    "### Exercise 31:\n",
    "Write a Python script that reads a file and removes all empty lines.\n",
    "\n",
    "```python\n",
    "# Exercise 31\n",
    "```\n",
    "\n",
    "---\n",
    "\n",
    "### Exercise 32:\n",
    "Open a file `\"config.txt\"` in both read and write mode.\n",
    "\n",
    "```python\n",
    "# Exercise 32\n",
    "```\n",
    "\n",
    "---\n",
    "\n",
    "### Exercise 33:\n",
    "Write a Python function that reads a file and prints the longest line in the file.\n",
    "\n",
    "```python\n",
    "# Exercise 33\n",
    "```\n",
    "\n",
    "---\n",
    "\n",
    "### Exercise 34:\n",
    "Write a Python script to count the frequency of each letter in a text file `\"message.txt\"`.\n",
    "\n",
    "```python\n",
    "# Exercise 34\n",
    "```\n",
    "\n",
    "---\n",
    "\n",
    "### Exercise 35:\n",
    "Write a Python script that reads a file and prints the total number of characters, excluding spaces.\n",
    "\n",
    "```python\n",
    "# Exercise 35\n",
    "```\n",
    "\n",
    "---\n",
    "\n",
    "### Exercise 36:\n",
    "Create a Python script to check whether a file is empty or not.\n",
    "\n",
    "```python\n",
    "# Exercise 36\n",
    "```\n",
    "\n",
    "---\n",
    "\n",
    "### Exercise 37:\n",
    "Write a Python function that reads a file and removes all punctuation marks from the text.\n",
    "\n",
    "```python\n",
    "# Exercise 37\n",
    "```\n",
    "\n",
    "---\n",
    "\n",
    "### Exercise 38:\n",
    "Create a Python function that writes a list of strings to a file, each string on a new line.\n",
    "\n",
    "```python\n",
    "# Exercise 38\n",
    "```\n",
    "\n",
    "---\n",
    "\n",
    "### Exercise 39:\n",
    "Write a Python script to count the number of lines that start with a specific letter (e.g., \"A\") in a text file.\n",
    "\n",
    "```python\n",
    "# Exercise 39\n",
    "```\n",
    "\n",
    "---\n",
    "\n",
    "### Exercise 40:\n",
    "Write a Python function that takes a string as input and writes it to a file `\"output.txt\"` in reverse order.\n",
    "\n",
    "```python\n",
    "# Exercise 40\n",
    "```\n",
    "\n",
    "---\n",
    "\n",
    "### Exercise 41:\n",
    "Write a Python script that reads a file and prints all the lines that contain the word `\"Python\"`.\n",
    "\n",
    "```python\n",
    "# Exercise 41\n",
    "```\n",
    "\n",
    "---\n",
    "\n",
    "### Exercise 42:\n",
    "Write a Python script that opens a file and removes all numeric digits from the file's content.\n",
    "\n",
    "```python\n",
    "# Exercise 42\n",
    "```\n",
    "\n",
    "---\n",
    "\n",
    "### Exercise 43:\n",
    "Write a Python script to find the most frequent word in a text file `\"book.txt\"`.\n",
    "\n",
    "```python\n",
    "# Exercise 43\n",
    "```\n",
    "\n",
    "---\n",
    "\n",
    "### Exercise 44:\n",
    "Write a Python script that reads a file and prints all the lines that contain exactly 5 words.\n",
    "\n",
    "```python\n",
    "# Exercise 44\n",
    "```\n",
    "\n",
    "---\n",
    "\n",
    "### Exercise 45:\n",
    "Write a Python script to read a file and print the first and last line of the file.\n",
    "\n",
    "```python\n",
    "# Exercise 45\n",
    "```\n",
    "\n",
    "---\n",
    "\n",
    "### Exercise 46:\n",
    "Write a Python script that checks if a file `\"students.txt\"` is writable.\n",
    "\n",
    "```python\n",
    "# Exercise 46\n",
    "```\n",
    "\n",
    "---\n",
    "\n",
    "### Exercise 47:\n",
    "Create a Python function that opens a file and returns the number of unique words in the file.\n",
    "\n",
    "```python\n",
    "# Exercise 47\n",
    "```\n",
    "\n",
    "---\n",
    "\n",
    "### Exercise 48:\n",
    "Write a Python script that reads a file and prints all lines in reverse order.\n",
    "\n",
    "```python\n",
    "# Exercise 48\n",
    "```\n",
    "\n",
    "---\n",
    "\n",
    "### Exercise 49:\n",
    "Write a Python function that reads a file and returns the most common letter in the text.\n",
    "\n",
    "```python\n",
    "# Exercise 49\n",
    "```\n",
    "\n",
    "---\n",
    "\n",
    "### Exercise 50:\n",
    "Write a Python script that reads a file and replaces every occurrence of `\"Python\"` with `\"Java\"`.\n",
    "\n",
    "```python\n",
    "# Exercise 50\n",
    "```\n",
    "\n",
    "---\n",
    "\n"
   ]
  },
  {
   "cell_type": "markdown",
   "id": "a7918bc9-6534-49b1-9d9c-801c5a876f9c",
   "metadata": {},
   "source": [
    "### EXERCISE 01"
   ]
  },
  {
   "cell_type": "code",
   "execution_count": 128,
   "id": "67895e6f-d5a2-433e-8a7e-05275fcbd0b5",
   "metadata": {},
   "outputs": [
    {
     "name": "stdout",
     "output_type": "stream",
     "text": [
      "Python is amazing\n"
     ]
    }
   ],
   "source": [
    "text = 'Python is amazing'\n",
    "print(text)"
   ]
  },
  {
   "cell_type": "markdown",
   "id": "d85ec3b3-0ab8-482b-8e3b-455ae5209d2e",
   "metadata": {},
   "source": [
    "### EXERCISE 02"
   ]
  },
  {
   "cell_type": "code",
   "execution_count": 131,
   "id": "020eeffc-aa5c-4746-85f7-70561a2bdb32",
   "metadata": {},
   "outputs": [
    {
     "name": "stdout",
     "output_type": "stream",
     "text": [
      "11\n"
     ]
    }
   ],
   "source": [
    "x =  'Hello world'\n",
    "print(len(x))"
   ]
  },
  {
   "cell_type": "markdown",
   "id": "4c56e087-4738-4239-89f9-4a6f6a04af2d",
   "metadata": {},
   "source": [
    "### EXERCISE 03"
   ]
  },
  {
   "cell_type": "code",
   "execution_count": 134,
   "id": "615b9a38-3c3a-439b-8490-2e50289db4fe",
   "metadata": {},
   "outputs": [
    {
     "name": "stdout",
     "output_type": "stream",
     "text": [
      "upper_text: PYTHON PROGRAMMING\n"
     ]
    }
   ],
   "source": [
    "upper_text = 'python programming'.upper()\n",
    "print(\"upper_text:\" ,upper_text)"
   ]
  },
  {
   "cell_type": "markdown",
   "id": "1a94e444-b7d5-48cb-b740-a09078f61497",
   "metadata": {},
   "source": [
    "### EXERCISE 4"
   ]
  },
  {
   "cell_type": "code",
   "execution_count": 137,
   "id": "5ac11630-85f0-4b31-8738-3ad5ecd3b322",
   "metadata": {},
   "outputs": [
    {
     "name": "stdout",
     "output_type": "stream",
     "text": [
      "tp: Artif\n"
     ]
    }
   ],
   "source": [
    "tp = \"Artificial Intelligence\"[:5]\n",
    "print(\"tp:\",tp)"
   ]
  },
  {
   "cell_type": "markdown",
   "id": "a92c78f1-e917-47be-9df8-beee7e8ecebb",
   "metadata": {},
   "source": [
    "### EXERCISE 5"
   ]
  },
  {
   "cell_type": "code",
   "execution_count": 140,
   "id": "e8a2e28d-aa27-4724-87aa-b105d1bb21b0",
   "metadata": {},
   "outputs": [
    {
     "name": "stdout",
     "output_type": "stream",
     "text": [
      "Hello World\n"
     ]
    }
   ],
   "source": [
    "x = 'Hello'\n",
    "y = 'World'\n",
    "print(x + \" \" + y)"
   ]
  },
  {
   "cell_type": "markdown",
   "id": "8bb47cb1-eb6c-4333-a5fd-076c997788ec",
   "metadata": {},
   "source": [
    "### EXERCISE 06"
   ]
  },
  {
   "cell_type": "code",
   "execution_count": 143,
   "id": "41352643-cabf-4acf-b7c6-25e426fa5ae8",
   "metadata": {},
   "outputs": [
    {
     "name": "stdout",
     "output_type": "stream",
     "text": [
      "sentence: The quick brown cat jumps over the lazy cat\n"
     ]
    }
   ],
   "source": [
    "sentence = \"The quick brown dog jumps over the lazy dog\".replace(\"dog\",\"cat\")\n",
    "print(\"sentence:\",sentence)"
   ]
  },
  {
   "cell_type": "markdown",
   "id": "ab0bbf5b-5263-40fb-ba91-81037225212e",
   "metadata": {},
   "source": [
    "### EXERCISE 07"
   ]
  },
  {
   "cell_type": "code",
   "execution_count": 146,
   "id": "52cd6608-3e4f-4e8d-b2fc-2b8b113d014b",
   "metadata": {},
   "outputs": [
    {
     "name": "stdout",
     "output_type": "stream",
     "text": [
      "['apple,banana,orange']\n"
     ]
    }
   ],
   "source": [
    "fruits_list = \"apple,banana,orange\".split(\" , \")\n",
    "print(fruits_list)\n"
   ]
  },
  {
   "cell_type": "markdown",
   "id": "1a3f5a3c-ac1e-49a3-9ef2-fef1a58b0b16",
   "metadata": {},
   "source": [
    "### EXERCISE 08"
   ]
  },
  {
   "cell_type": "code",
   "execution_count": 149,
   "id": "a583ded5-e050-4856-b4cf-5e20b42ea98c",
   "metadata": {},
   "outputs": [
    {
     "name": "stdout",
     "output_type": "stream",
     "text": [
      "My name is Alice and I am 25 years old.\n"
     ]
    }
   ],
   "source": [
    "age = 25\n",
    "name = \"Alice\"\n",
    "formated_sentence = f\"My name is {name} and I am {age} years old.\"\n",
    "print(formated_sentence)"
   ]
  },
  {
   "cell_type": "markdown",
   "id": "180c9ea4-9fb7-4d58-a1c7-2f5d706407be",
   "metadata": {},
   "source": [
    "### EXERCISE 09"
   ]
  },
  {
   "cell_type": "code",
   "execution_count": 152,
   "id": "671d84e7-e61e-41a7-b667-3be6904799d9",
   "metadata": {},
   "outputs": [
    {
     "name": "stdout",
     "output_type": "stream",
     "text": [
      "True\n"
     ]
    }
   ],
   "source": [
    "sentence_check = \"I Love python programming\"\n",
    "is_present = \"python\" in sentence_check\n",
    "print(is_present)"
   ]
  },
  {
   "cell_type": "markdown",
   "id": "1a1ec37b-9901-476c-bdf9-e969a34246ad",
   "metadata": {},
   "source": [
    "### EXERCISE 10"
   ]
  },
  {
   "cell_type": "code",
   "execution_count": 155,
   "id": "ef430a61-e566-49bc-bffb-d43170f05d84",
   "metadata": {},
   "outputs": [
    {
     "name": "stdout",
     "output_type": "stream",
     "text": [
      "3\n"
     ]
    }
   ],
   "source": [
    "E_count = \"Elephant is an elegant animal\".count(\"e\")\n",
    "print(E_count)"
   ]
  },
  {
   "cell_type": "markdown",
   "id": "c1785103-ec86-4b0c-bab2-b83bc6cbe151",
   "metadata": {},
   "source": [
    "### EXERCISE 11"
   ]
  },
  {
   "cell_type": "code",
   "execution_count": 158,
   "id": "681a8746-8f90-4325-9e1b-5e16997fb73b",
   "metadata": {},
   "outputs": [
    {
     "name": "stdout",
     "output_type": "stream",
     "text": [
      "Cleaned text: 'Data Science'\n"
     ]
    }
   ],
   "source": [
    "text = \"   Data Science   \"\n",
    "cleaned_text = text.strip()\n",
    "print(f\"Cleaned text: '{cleaned_text}'\")"
   ]
  },
  {
   "cell_type": "markdown",
   "id": "bc220651-af04-4316-9734-9bc8fbf52ac1",
   "metadata": {},
   "source": [
    "### EXERCISE 12"
   ]
  },
  {
   "cell_type": "code",
   "execution_count": 161,
   "id": "2a66cd19-d65e-49f5-8540-3e4bf4634c42",
   "metadata": {},
   "outputs": [
    {
     "name": "stdout",
     "output_type": "stream",
     "text": [
      "Integer value: 100\n"
     ]
    }
   ],
   "source": [
    "string_number = \"100\"\n",
    "int_value = int(string_number)\n",
    "print(f\"Integer value: {int_value}\")"
   ]
  },
  {
   "cell_type": "markdown",
   "id": "7ec1c9d4-e136-49a5-8d33-3590bb8c8fd1",
   "metadata": {},
   "source": [
    "### EXERCISE 13"
   ]
  },
  {
   "cell_type": "code",
   "execution_count": 164,
   "id": "71191ae4-9919-4538-9ca0-d7cecc21b9c0",
   "metadata": {},
   "outputs": [
    {
     "name": "stdout",
     "output_type": "stream",
     "text": [
      "Extracted substring: pro\n"
     ]
    }
   ],
   "source": [
    "text = \"programming\"\n",
    "substring = text[0:3]\n",
    "print(f\"Extracted substring: {substring}\")"
   ]
  },
  {
   "cell_type": "markdown",
   "id": "8ec12b31-b57a-4d90-aea4-1ef8ddef7f9c",
   "metadata": {},
   "source": [
    "### EXERCISE 14"
   ]
  },
  {
   "cell_type": "code",
   "execution_count": 167,
   "id": "aa713c6d-c6f8-41e2-af7d-a65d47cdc603",
   "metadata": {},
   "outputs": [
    {
     "name": "stdout",
     "output_type": "stream",
     "text": [
      "Starts with 'da': True, Ends with 'ta': True\n"
     ]
    }
   ],
   "source": [
    "text = \"data\"\n",
    "starts_correctly = text.startswith(\"da\")\n",
    "ends_correctly = text.endswith(\"ta\")\n",
    "print(f\"Starts with 'da': {starts_correctly}, Ends with 'ta': {ends_correctly}\")"
   ]
  },
  {
   "cell_type": "markdown",
   "id": "9e8a6497-5235-4258-8615-9a5ffd9e34f3",
   "metadata": {},
   "source": [
    "### EXERCISE 15"
   ]
  },
  {
   "cell_type": "raw",
   "id": "34bc3b10-9d45-418c-be34-cde3245c77f6",
   "metadata": {},
   "source": [
    "text = \"machine learning\"\n",
    "reversed_text = text[::-1]\n",
    "print(f\"Reversed text: {reversed_text}\")"
   ]
  },
  {
   "cell_type": "markdown",
   "id": "0350e747-3e8f-4a10-b505-3d7aa8e5eeaa",
   "metadata": {},
   "source": [
    "### EXERCISE 16"
   ]
  },
  {
   "cell_type": "code",
   "execution_count": 171,
   "id": "358c6a73-4920-444e-b8a9-1cca003e265d",
   "metadata": {},
   "outputs": [
    {
     "name": "stdout",
     "output_type": "stream",
     "text": [
      "Capitalized text: MACHINE LEARNING IS FUN\n"
     ]
    }
   ],
   "source": [
    "text = \"machine learning is fun\"\n",
    "capitalized_text = text.upper()\n",
    "print(f\"Capitalized text: {capitalized_text}\")"
   ]
  },
  {
   "cell_type": "markdown",
   "id": "85a1ff00-64fd-458c-8ca1-184dd49c6ac2",
   "metadata": {},
   "source": [
    "### EXERCISE 17"
   ]
  },
  {
   "cell_type": "code",
   "execution_count": 174,
   "id": "629adc85-3a5b-4e58-b598-196f002e1023",
   "metadata": {},
   "outputs": [
    {
     "name": "stdout",
     "output_type": "stream",
     "text": [
      "Roses are red,\n",
      "Violets are blue,\n",
      "Python is great,\n",
      "And so are you.\n"
     ]
    }
   ],
   "source": [
    "poem = \"\"\"Roses are red,\n",
    "Violets are blue,\n",
    "Python is great,\n",
    "And so are you.\"\"\"\n",
    "print(poem)"
   ]
  },
  {
   "cell_type": "markdown",
   "id": "06ee9369-cfe3-433e-bb6c-7817cf7bcd11",
   "metadata": {},
   "source": [
    "### EXERCISE 18"
   ]
  },
  {
   "cell_type": "code",
   "execution_count": 177,
   "id": "fe397d2a-cde6-42aa-8fb1-45978081ac38",
   "metadata": {},
   "outputs": [
    {
     "name": "stdout",
     "output_type": "stream",
     "text": [
      "String has been written to 'output.txt'.\n"
     ]
    }
   ],
   "source": [
    "with open(\"output.txt\", \"w\") as file:\n",
    "    file.write(\"This is the output of Exercise 18.\")\n",
    "print(\"String has been written to 'output.txt'.\")"
   ]
  },
  {
   "cell_type": "markdown",
   "id": "59527d02-cf95-49bf-ac65-c7da23558313",
   "metadata": {},
   "source": [
    "### Exercise 19"
   ]
  },
  {
   "cell_type": "code",
   "execution_count": 119,
   "id": "4996df9d-31b2-462f-b062-eb4a64e02a07",
   "metadata": {},
   "outputs": [
    {
     "name": "stdout",
     "output_type": "stream",
     "text": [
      "The file 'data.txt' does not exist.\n"
     ]
    }
   ],
   "source": [
    "try:\n",
    " with open(\"data.txt\", \"r\") as file:\n",
    "        for line in file:\n",
    "            print(line.strip())\n",
    "except FileNotFoundError:\n",
    "    print(\"The file 'data.txt' does not exist.\")"
   ]
  },
  {
   "cell_type": "markdown",
   "id": "e2f0cd60-5edc-4a26-93c9-80f9db6f5f8b",
   "metadata": {},
   "source": [
    "Exercise 20"
   ]
  },
  {
   "cell_type": "code",
   "execution_count": null,
   "id": "bf12e6a4-441c-4b93-870f-b71a39d03ed2",
   "metadata": {},
   "outputs": [],
   "source": [
    "import os\n",
    "\n",
    "if os.path.exists(\"example.txt\"):\n",
    "    with open(\"example.txt\", \"r\") as file:\n",
    "        content = file.read()\n",
    "        print(content)\n",
    "else:\n",
    "    print(\"The file 'example.txt' does not exist.\")"
   ]
  }
 ],
 "metadata": {
  "kernelspec": {
   "display_name": "Python [conda env:base] *",
   "language": "python",
   "name": "conda-base-py"
  },
  "language_info": {
   "codemirror_mode": {
    "name": "ipython",
    "version": 3
   },
   "file_extension": ".py",
   "mimetype": "text/x-python",
   "name": "python",
   "nbconvert_exporter": "python",
   "pygments_lexer": "ipython3",
   "version": "3.12.7"
  }
 },
 "nbformat": 4,
 "nbformat_minor": 5
}
